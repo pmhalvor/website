{
 "cells": [
  {
   "cell_type": "code",
   "execution_count": 37,
   "metadata": {},
   "outputs": [],
   "source": [
    "import pandas as pd\n",
    "import matplotlib.pyplot as plt \n",
    "%matplotlib inline"
   ]
  },
  {
   "cell_type": "markdown",
   "metadata": {},
   "source": [
    "# Wikipedia tables"
   ]
  },
  {
   "cell_type": "code",
   "execution_count": 2,
   "metadata": {},
   "outputs": [],
   "source": [
    "tables = pd.read_html('https://en.wikipedia.org/wiki/List_of_oil_spills')"
   ]
  },
  {
   "cell_type": "code",
   "execution_count": 3,
   "metadata": {},
   "outputs": [
    {
     "data": {
      "text/plain": [
       "11"
      ]
     },
     "execution_count": 3,
     "metadata": {},
     "output_type": "execute_result"
    }
   ],
   "source": [
    "len(tables)"
   ]
  },
  {
   "cell_type": "code",
   "execution_count": 4,
   "metadata": {},
   "outputs": [
    {
     "data": {
      "text/html": [
       "<div>\n",
       "<style scoped>\n",
       "    .dataframe tbody tr th:only-of-type {\n",
       "        vertical-align: middle;\n",
       "    }\n",
       "\n",
       "    .dataframe tbody tr th {\n",
       "        vertical-align: top;\n",
       "    }\n",
       "\n",
       "    .dataframe thead th {\n",
       "        text-align: right;\n",
       "    }\n",
       "</style>\n",
       "<table border=\"1\" class=\"dataframe\">\n",
       "  <thead>\n",
       "    <tr style=\"text-align: right;\">\n",
       "      <th></th>\n",
       "      <th>Spill / Vessel</th>\n",
       "      <th>Location</th>\n",
       "      <th>Dates</th>\n",
       "      <th>Min Tonnes</th>\n",
       "      <th>Max Tonnes</th>\n",
       "      <th>Owner</th>\n",
       "      <th>Link(s)</th>\n",
       "    </tr>\n",
       "  </thead>\n",
       "  <tbody>\n",
       "    <tr>\n",
       "      <th>0</th>\n",
       "      <td>El Palito Refinery</td>\n",
       "      <td>Venezuela, Golfo Triste</td>\n",
       "      <td>8 August 2020</td>\n",
       "      <td>2700</td>\n",
       "      <td>2700</td>\n",
       "      <td>Petróleos de Venezuela</td>\n",
       "      <td>[1]</td>\n",
       "    </tr>\n",
       "    <tr>\n",
       "      <th>1</th>\n",
       "      <td>2020 Pointe D'Esny MV Wakashio oil spill</td>\n",
       "      <td>Mauritius, Ile Aux Aigrettes and Mahebourg</td>\n",
       "      <td>25 July 2020</td>\n",
       "      <td>1300</td>\n",
       "      <td>4300</td>\n",
       "      <td>Wakashio Suisan Company Limited, Kagoshima, Japan</td>\n",
       "      <td>[2] [3]</td>\n",
       "    </tr>\n",
       "    <tr>\n",
       "      <th>2</th>\n",
       "      <td>Trans Mountain oil spill</td>\n",
       "      <td>Canada, British Columbia, Abbotsford</td>\n",
       "      <td>14 June 2020</td>\n",
       "      <td>118.5</td>\n",
       "      <td>184.87</td>\n",
       "      <td>Trans Mountain</td>\n",
       "      <td>[4]</td>\n",
       "    </tr>\n",
       "    <tr>\n",
       "      <th>3</th>\n",
       "      <td>Norilsk diesel fuel spill</td>\n",
       "      <td>Russia, Norilsk, Krasnoyarsk Krai</td>\n",
       "      <td>29 May 2020</td>\n",
       "      <td>17500</td>\n",
       "      <td>17500</td>\n",
       "      <td>Nornickel</td>\n",
       "      <td>[5][6]</td>\n",
       "    </tr>\n",
       "    <tr>\n",
       "      <th>4</th>\n",
       "      <td>Tanker truck pumping out sludge from a vessel</td>\n",
       "      <td>New Zealand, Tauranga, Bay of Plenty</td>\n",
       "      <td>30 March 2020</td>\n",
       "      <td>1.7</td>\n",
       "      <td>1.7</td>\n",
       "      <td>NaN</td>\n",
       "      <td>[7][8]</td>\n",
       "    </tr>\n",
       "    <tr>\n",
       "      <th>5</th>\n",
       "      <td>T.G. Williams Well No. 1 tank battery</td>\n",
       "      <td>United States, Oakland Creek, Longview</td>\n",
       "      <td>30 March 2020</td>\n",
       "      <td>unknown</td>\n",
       "      <td>unknown</td>\n",
       "      <td>Fortune Resources</td>\n",
       "      <td>[9]</td>\n",
       "    </tr>\n",
       "    <tr>\n",
       "      <th>6</th>\n",
       "      <td>Greka Energy oil facility</td>\n",
       "      <td>United States, Santa Maria</td>\n",
       "      <td>30 March 2020</td>\n",
       "      <td>NaN</td>\n",
       "      <td>NaN</td>\n",
       "      <td>Greka</td>\n",
       "      <td>[10]</td>\n",
       "    </tr>\n",
       "    <tr>\n",
       "      <th>7</th>\n",
       "      <td>True Oil pipeline</td>\n",
       "      <td>United States, North Dakota, Red Wing Creek</td>\n",
       "      <td>27 March 2020</td>\n",
       "      <td>unknown</td>\n",
       "      <td>unknown</td>\n",
       "      <td>True Oil LLC</td>\n",
       "      <td>[11]</td>\n",
       "    </tr>\n",
       "    <tr>\n",
       "      <th>8</th>\n",
       "      <td>Tanker truck rollover</td>\n",
       "      <td>United States, Santa Maria, Cuyama River</td>\n",
       "      <td>21 March 2020</td>\n",
       "      <td>14.6</td>\n",
       "      <td>19.5</td>\n",
       "      <td>NaN</td>\n",
       "      <td>[12][13]</td>\n",
       "    </tr>\n",
       "    <tr>\n",
       "      <th>9</th>\n",
       "      <td>Keystone Pipeline 2019 spill</td>\n",
       "      <td>United States, Walsh County, North Dakota</td>\n",
       "      <td>29 October 2019</td>\n",
       "      <td>1240</td>\n",
       "      <td>1240</td>\n",
       "      <td>TransCanada Corporation</td>\n",
       "      <td>[14]</td>\n",
       "    </tr>\n",
       "    <tr>\n",
       "      <th>10</th>\n",
       "      <td>Willowton Oil</td>\n",
       "      <td>South Africa, KwaZulu-Natal, near Pietermaritz...</td>\n",
       "      <td>August 2019</td>\n",
       "      <td>unknown</td>\n",
       "      <td>unknown</td>\n",
       "      <td>Willowton Group</td>\n",
       "      <td>[15]</td>\n",
       "    </tr>\n",
       "    <tr>\n",
       "      <th>11</th>\n",
       "      <td>North East Brazil oil spill (suspected source:...</td>\n",
       "      <td>Brazil, 733 km from Paraiba</td>\n",
       "      <td>29 July 2019</td>\n",
       "      <td>unknown</td>\n",
       "      <td>unknown</td>\n",
       "      <td>Delta Tankers Ltd.</td>\n",
       "      <td>[16]</td>\n",
       "    </tr>\n",
       "    <tr>\n",
       "      <th>12</th>\n",
       "      <td>Guarello Island iron ore export terminal diese...</td>\n",
       "      <td>Chile, Guarello Island, Magallanes Region</td>\n",
       "      <td>27 July 2019</td>\n",
       "      <td>35.4</td>\n",
       "      <td>35.4</td>\n",
       "      <td>Compañía de Acero del Pacífico</td>\n",
       "      <td>[17][18]</td>\n",
       "    </tr>\n",
       "    <tr>\n",
       "      <th>13</th>\n",
       "      <td>MV Chrysanthi S bunkering spill at sea</td>\n",
       "      <td>South Africa, Algoa Bay, Port of Ngqura</td>\n",
       "      <td>6 July 2019</td>\n",
       "      <td>0.2</td>\n",
       "      <td>0.4</td>\n",
       "      <td>SA Marine Fuels (bunkering service company)</td>\n",
       "      <td>[19][20]</td>\n",
       "    </tr>\n",
       "    <tr>\n",
       "      <th>14</th>\n",
       "      <td>MV Solomon Trader fuel oil spill</td>\n",
       "      <td>Solomon Islands, Rennell Island</td>\n",
       "      <td>5 February 2019</td>\n",
       "      <td>75</td>\n",
       "      <td>80</td>\n",
       "      <td>South Express Ltd</td>\n",
       "      <td>[21][22]</td>\n",
       "    </tr>\n",
       "    <tr>\n",
       "      <th>15</th>\n",
       "      <td>SeaRose FPSO production ship spill</td>\n",
       "      <td>Canada, St. John's, Newfoundland and Labrador</td>\n",
       "      <td>16 November 2018</td>\n",
       "      <td>219</td>\n",
       "      <td>219</td>\n",
       "      <td>Husky Energy</td>\n",
       "      <td>[23][24]</td>\n",
       "    </tr>\n",
       "    <tr>\n",
       "      <th>16</th>\n",
       "      <td>Ulysse-Virginia collision</td>\n",
       "      <td>North of Corsica (international waters)</td>\n",
       "      <td>October 2018</td>\n",
       "      <td>NaN</td>\n",
       "      <td>NaN</td>\n",
       "      <td>NaN</td>\n",
       "      <td>[25]</td>\n",
       "    </tr>\n",
       "    <tr>\n",
       "      <th>17</th>\n",
       "      <td>Port Erin diesel spill (source unknown)</td>\n",
       "      <td>Isle of Man</td>\n",
       "      <td>23 July 2018</td>\n",
       "      <td>unknown</td>\n",
       "      <td>unknown</td>\n",
       "      <td>unknown</td>\n",
       "      <td>[26]</td>\n",
       "    </tr>\n",
       "    <tr>\n",
       "      <th>18</th>\n",
       "      <td>Doon, Iowa derailment</td>\n",
       "      <td>United States, Lyon County, Iowa</td>\n",
       "      <td>22 June 2018</td>\n",
       "      <td>520</td>\n",
       "      <td>520</td>\n",
       "      <td>BNSF Railway</td>\n",
       "      <td>[27]</td>\n",
       "    </tr>\n",
       "    <tr>\n",
       "      <th>19</th>\n",
       "      <td>Sanchi oil tanker collision with CF Crystal</td>\n",
       "      <td>East China Sea</td>\n",
       "      <td>6 January 2018</td>\n",
       "      <td>138000</td>\n",
       "      <td>138000</td>\n",
       "      <td>National Iranian Tanker Company</td>\n",
       "      <td>[28]</td>\n",
       "    </tr>\n",
       "    <tr>\n",
       "      <th>20</th>\n",
       "      <td>Keystone Pipeline 2017 spill</td>\n",
       "      <td>United States, Marshall County, South Dakota</td>\n",
       "      <td>16 November 2017</td>\n",
       "      <td>1322</td>\n",
       "      <td>1322</td>\n",
       "      <td>TransCanada Corporation</td>\n",
       "      <td>[29]</td>\n",
       "    </tr>\n",
       "    <tr>\n",
       "      <th>21</th>\n",
       "      <td>Delta House floating production platform spill</td>\n",
       "      <td>United States, Gulf of Mexico, near Louisiana</td>\n",
       "      <td>11 October 2017 – 12 October 2017</td>\n",
       "      <td>1080</td>\n",
       "      <td>1280</td>\n",
       "      <td>LLOG Exploration</td>\n",
       "      <td>[30][31]</td>\n",
       "    </tr>\n",
       "    <tr>\n",
       "      <th>22</th>\n",
       "      <td>Agia Zoni II</td>\n",
       "      <td>Greece, Saronic Gulf, Salamis</td>\n",
       "      <td>10 September 2017</td>\n",
       "      <td>2500</td>\n",
       "      <td>2500</td>\n",
       "      <td>Fos Petroleum SA</td>\n",
       "      <td>[32]</td>\n",
       "    </tr>\n",
       "    <tr>\n",
       "      <th>23</th>\n",
       "      <td>East River insulating oil spill</td>\n",
       "      <td>United States, New York</td>\n",
       "      <td>7 May 2017</td>\n",
       "      <td>97</td>\n",
       "      <td>101</td>\n",
       "      <td>Con Edison</td>\n",
       "      <td>[33]</td>\n",
       "    </tr>\n",
       "    <tr>\n",
       "      <th>24</th>\n",
       "      <td>Energy Transfer Partners Dakota Access Pipelin...</td>\n",
       "      <td>United States, North Dakota</td>\n",
       "      <td>4 April 2017</td>\n",
       "      <td>0.27</td>\n",
       "      <td>0.27</td>\n",
       "      <td>Energy Transfer Partners</td>\n",
       "      <td>[34]</td>\n",
       "    </tr>\n",
       "    <tr>\n",
       "      <th>25</th>\n",
       "      <td>Ennore oil spill</td>\n",
       "      <td>India, Chennai, Ennore Port</td>\n",
       "      <td>28 January 2017</td>\n",
       "      <td>251</td>\n",
       "      <td>251</td>\n",
       "      <td>Darya Shipping Solutions</td>\n",
       "      <td>[35][36][37]</td>\n",
       "    </tr>\n",
       "    <tr>\n",
       "      <th>26</th>\n",
       "      <td>Belle Fourche pipeline leak</td>\n",
       "      <td>United States, North Dakota, Billings County, ...</td>\n",
       "      <td>5 December 2016</td>\n",
       "      <td>571</td>\n",
       "      <td>571</td>\n",
       "      <td>Belle Fourche Pipeline Company</td>\n",
       "      <td>[38]</td>\n",
       "    </tr>\n",
       "    <tr>\n",
       "      <th>27</th>\n",
       "      <td>Fox Creek pipeline leak</td>\n",
       "      <td>Canada, Alberta, Fox Creek</td>\n",
       "      <td>6 October 2016</td>\n",
       "      <td>240</td>\n",
       "      <td>240</td>\n",
       "      <td>Trilogy Energy</td>\n",
       "      <td>[39]</td>\n",
       "    </tr>\n",
       "    <tr>\n",
       "      <th>28</th>\n",
       "      <td>BP Clair production platform, North Sea</td>\n",
       "      <td>United Kingdom, Shetland, Clair platform</td>\n",
       "      <td>2 October 2016</td>\n",
       "      <td>105</td>\n",
       "      <td>105</td>\n",
       "      <td>BP</td>\n",
       "      <td>[40]</td>\n",
       "    </tr>\n",
       "    <tr>\n",
       "      <th>29</th>\n",
       "      <td>2016 Colonial Pipeline Leak</td>\n",
       "      <td>United States, Shelby County, Alabama</td>\n",
       "      <td>12 September 2016</td>\n",
       "      <td>1092</td>\n",
       "      <td>1092</td>\n",
       "      <td>Colonial Pipeline Co</td>\n",
       "      <td>[41]</td>\n",
       "    </tr>\n",
       "    <tr>\n",
       "      <th>...</th>\n",
       "      <td>...</td>\n",
       "      <td>...</td>\n",
       "      <td>...</td>\n",
       "      <td>...</td>\n",
       "      <td>...</td>\n",
       "      <td>...</td>\n",
       "      <td>...</td>\n",
       "    </tr>\n",
       "    <tr>\n",
       "      <th>231</th>\n",
       "      <td>Arizona Standard / Oregon Standard collision</td>\n",
       "      <td>United States, San Francisco Bay</td>\n",
       "      <td>17 January 1971</td>\n",
       "      <td>2700</td>\n",
       "      <td>2700</td>\n",
       "      <td>NaN</td>\n",
       "      <td>[273][274][275]</td>\n",
       "    </tr>\n",
       "    <tr>\n",
       "      <th>232</th>\n",
       "      <td>Othello</td>\n",
       "      <td>Sweden, Trälhavet Bay</td>\n",
       "      <td>20 March 1970</td>\n",
       "      <td>50000</td>\n",
       "      <td>60000</td>\n",
       "      <td>NaN</td>\n",
       "      <td>[151][174]</td>\n",
       "    </tr>\n",
       "    <tr>\n",
       "      <th>233</th>\n",
       "      <td>Platform Charlie</td>\n",
       "      <td>United States, Louisiana</td>\n",
       "      <td>10 February 1970</td>\n",
       "      <td>unknown</td>\n",
       "      <td>unknown</td>\n",
       "      <td>NaN</td>\n",
       "      <td>[276]</td>\n",
       "    </tr>\n",
       "    <tr>\n",
       "      <th>234</th>\n",
       "      <td>SS Arrow</td>\n",
       "      <td>Canada, Chedabucto Bay, Nova Scotia</td>\n",
       "      <td>4 February 1970</td>\n",
       "      <td>10330</td>\n",
       "      <td>10330</td>\n",
       "      <td>NaN</td>\n",
       "      <td>[277]</td>\n",
       "    </tr>\n",
       "    <tr>\n",
       "      <th>235</th>\n",
       "      <td>Hamilton Trader</td>\n",
       "      <td>United Kingdom, Liverpool Bay, Irish Sea</td>\n",
       "      <td>30 April 1969</td>\n",
       "      <td>546</td>\n",
       "      <td>546</td>\n",
       "      <td>NaN</td>\n",
       "      <td>[278]</td>\n",
       "    </tr>\n",
       "    <tr>\n",
       "      <th>236</th>\n",
       "      <td>Santa Barbara</td>\n",
       "      <td>United States, Santa Barbara, California</td>\n",
       "      <td>28 January 1969</td>\n",
       "      <td>6000</td>\n",
       "      <td>14000</td>\n",
       "      <td>NaN</td>\n",
       "      <td>[279]</td>\n",
       "    </tr>\n",
       "    <tr>\n",
       "      <th>237</th>\n",
       "      <td>Witwater</td>\n",
       "      <td>Panama, Canal Zone, Galeta Island</td>\n",
       "      <td>13 December 1968</td>\n",
       "      <td>1910</td>\n",
       "      <td>1910</td>\n",
       "      <td>NaN</td>\n",
       "      <td>[280]</td>\n",
       "    </tr>\n",
       "    <tr>\n",
       "      <th>238</th>\n",
       "      <td>World Glory</td>\n",
       "      <td>South Africa, 65 miles ENE of Durban</td>\n",
       "      <td>13 June 1968</td>\n",
       "      <td>44058</td>\n",
       "      <td>46000</td>\n",
       "      <td>World Tankers Co. Inc.</td>\n",
       "      <td>[281][282][283]</td>\n",
       "    </tr>\n",
       "    <tr>\n",
       "      <th>239</th>\n",
       "      <td>Genevieve</td>\n",
       "      <td>United States, Corpus Christi, Texas</td>\n",
       "      <td>25 April 1968</td>\n",
       "      <td>unknown</td>\n",
       "      <td>unknown</td>\n",
       "      <td>Lykes Brothers Steamship Co. Ltd.</td>\n",
       "      <td>[284]</td>\n",
       "    </tr>\n",
       "    <tr>\n",
       "      <th>240</th>\n",
       "      <td>Andron</td>\n",
       "      <td>Namibia, between Luderitz and Walvis Bay</td>\n",
       "      <td>8 May 1968</td>\n",
       "      <td>NaN</td>\n",
       "      <td>NaN</td>\n",
       "      <td>NaN</td>\n",
       "      <td>[285][286]</td>\n",
       "    </tr>\n",
       "    <tr>\n",
       "      <th>241</th>\n",
       "      <td>Esso Essen</td>\n",
       "      <td>South Africa</td>\n",
       "      <td>April 1968</td>\n",
       "      <td>4092</td>\n",
       "      <td>4092</td>\n",
       "      <td>NaN</td>\n",
       "      <td>[285]</td>\n",
       "    </tr>\n",
       "    <tr>\n",
       "      <th>242</th>\n",
       "      <td>General Colocotronis</td>\n",
       "      <td>Bahamas, Eleuthera</td>\n",
       "      <td>7 March 1968</td>\n",
       "      <td>5047</td>\n",
       "      <td>5047</td>\n",
       "      <td>NaN</td>\n",
       "      <td>[287]</td>\n",
       "    </tr>\n",
       "    <tr>\n",
       "      <th>243</th>\n",
       "      <td>Ocean Eagle</td>\n",
       "      <td>Puerto Rico, San Juan, Puerto Rico</td>\n",
       "      <td>3 March 1968</td>\n",
       "      <td>12000</td>\n",
       "      <td>12500</td>\n",
       "      <td>Transocean Tankers Inc.</td>\n",
       "      <td>[288][289]</td>\n",
       "    </tr>\n",
       "    <tr>\n",
       "      <th>244</th>\n",
       "      <td>R.C. Stoner</td>\n",
       "      <td>United States, Pacific Ocean, Wake Island</td>\n",
       "      <td>1967</td>\n",
       "      <td>20000</td>\n",
       "      <td>20000</td>\n",
       "      <td>NaN</td>\n",
       "      <td>[260]</td>\n",
       "    </tr>\n",
       "    <tr>\n",
       "      <th>245</th>\n",
       "      <td>Torrey Canyon</td>\n",
       "      <td>United Kingdom, Cornwall and Isles of Scilly</td>\n",
       "      <td>18 March 1967</td>\n",
       "      <td>80000</td>\n",
       "      <td>119000</td>\n",
       "      <td>NaN</td>\n",
       "      <td>[151][163]</td>\n",
       "    </tr>\n",
       "    <tr>\n",
       "      <th>246</th>\n",
       "      <td>Mississippi River oil spill (1962–1963)</td>\n",
       "      <td>United States, Savage and Mankato, Minnesota</td>\n",
       "      <td>8 December 1962 – 23 January 1963</td>\n",
       "      <td>11000</td>\n",
       "      <td>15000</td>\n",
       "      <td>NaN</td>\n",
       "      <td>NaN</td>\n",
       "    </tr>\n",
       "    <tr>\n",
       "      <th>247</th>\n",
       "      <td>African Queen</td>\n",
       "      <td>United States, Ocean City, Maryland</td>\n",
       "      <td>30 December 1958</td>\n",
       "      <td>21000</td>\n",
       "      <td>21000</td>\n",
       "      <td>NaN</td>\n",
       "      <td>[290][291]</td>\n",
       "    </tr>\n",
       "    <tr>\n",
       "      <th>248</th>\n",
       "      <td>Avila Beach pipeline</td>\n",
       "      <td>United States, Avila Beach, California</td>\n",
       "      <td>1950's – 1996</td>\n",
       "      <td>1300</td>\n",
       "      <td>1300</td>\n",
       "      <td>NaN</td>\n",
       "      <td>[292]</td>\n",
       "    </tr>\n",
       "    <tr>\n",
       "      <th>249</th>\n",
       "      <td>Guadalupe Oil Field</td>\n",
       "      <td>United States, Guadalupe, California</td>\n",
       "      <td>1950's – 1994</td>\n",
       "      <td>29000</td>\n",
       "      <td>29000</td>\n",
       "      <td>NaN</td>\n",
       "      <td>[292]</td>\n",
       "    </tr>\n",
       "    <tr>\n",
       "      <th>250</th>\n",
       "      <td>Sliedrecht</td>\n",
       "      <td>South Africa, Cape Town, Table Bay</td>\n",
       "      <td>November 1953</td>\n",
       "      <td>1000</td>\n",
       "      <td>1000</td>\n",
       "      <td>NaN</td>\n",
       "      <td>[293]</td>\n",
       "    </tr>\n",
       "    <tr>\n",
       "      <th>251</th>\n",
       "      <td>SS Jacob Luckenbach</td>\n",
       "      <td>United States, Gulf of the Farallons National ...</td>\n",
       "      <td>14 July 1953 – present</td>\n",
       "      <td>1484</td>\n",
       "      <td>1484</td>\n",
       "      <td>NaN</td>\n",
       "      <td>[294]</td>\n",
       "    </tr>\n",
       "    <tr>\n",
       "      <th>252</th>\n",
       "      <td>Esso Wheeling</td>\n",
       "      <td>South Africa, Quoin Point near Cape Town</td>\n",
       "      <td>4 November 1948</td>\n",
       "      <td>NaN</td>\n",
       "      <td>NaN</td>\n",
       "      <td>NaN</td>\n",
       "      <td>[295]</td>\n",
       "    </tr>\n",
       "    <tr>\n",
       "      <th>253</th>\n",
       "      <td>Lincoln</td>\n",
       "      <td>South Africa, Quoin Point near Cape Town</td>\n",
       "      <td>1946</td>\n",
       "      <td>NaN</td>\n",
       "      <td>NaN</td>\n",
       "      <td>NaN</td>\n",
       "      <td>[295]</td>\n",
       "    </tr>\n",
       "    <tr>\n",
       "      <th>254</th>\n",
       "      <td>Greenpoint, Brooklyn</td>\n",
       "      <td>United States, Newtown Creek, Greenpoint, Broo...</td>\n",
       "      <td>1940s – 1950s</td>\n",
       "      <td>55200</td>\n",
       "      <td>97400</td>\n",
       "      <td>NaN</td>\n",
       "      <td>[296]</td>\n",
       "    </tr>\n",
       "    <tr>\n",
       "      <th>255</th>\n",
       "      <td>Seria Field 14 wells</td>\n",
       "      <td>Brunei</td>\n",
       "      <td>12 June 1945 – September 1945</td>\n",
       "      <td>unknown</td>\n",
       "      <td>unknown</td>\n",
       "      <td>NaN</td>\n",
       "      <td>[297][298][299]</td>\n",
       "    </tr>\n",
       "    <tr>\n",
       "      <th>256</th>\n",
       "      <td>Scuttled tanker El Grillo</td>\n",
       "      <td>Iceland, Seyðisfjörður</td>\n",
       "      <td>February 1944 – present</td>\n",
       "      <td>unknown</td>\n",
       "      <td>unknown</td>\n",
       "      <td>NaN</td>\n",
       "      <td>[300]</td>\n",
       "    </tr>\n",
       "    <tr>\n",
       "      <th>257</th>\n",
       "      <td>SS Frank H. Buck / SS President Coolidge colli...</td>\n",
       "      <td>United States, San Francisco Bay, California</td>\n",
       "      <td>6 March 1937</td>\n",
       "      <td>8870</td>\n",
       "      <td>8870</td>\n",
       "      <td>NaN</td>\n",
       "      <td>[273][301]</td>\n",
       "    </tr>\n",
       "    <tr>\n",
       "      <th>258</th>\n",
       "      <td>Lakeview Gusher</td>\n",
       "      <td>United States, Kern County, California</td>\n",
       "      <td>14 March 1910 – 10 September 1911</td>\n",
       "      <td>1230000</td>\n",
       "      <td>1230000</td>\n",
       "      <td>NaN</td>\n",
       "      <td>[302]</td>\n",
       "    </tr>\n",
       "    <tr>\n",
       "      <th>259</th>\n",
       "      <td>Thomas W. Lawson</td>\n",
       "      <td>United Kingdom, Isles of Scilly</td>\n",
       "      <td>14 December 1907</td>\n",
       "      <td>7400</td>\n",
       "      <td>7400</td>\n",
       "      <td>NaN</td>\n",
       "      <td>[303]</td>\n",
       "    </tr>\n",
       "    <tr>\n",
       "      <th>260</th>\n",
       "      <td>SS Petriana</td>\n",
       "      <td>Australia, Port Phillip Bay, Victoria</td>\n",
       "      <td>30 November 1903</td>\n",
       "      <td>1300</td>\n",
       "      <td>1300</td>\n",
       "      <td>Asiatic Petroleum Company</td>\n",
       "      <td>[304]</td>\n",
       "    </tr>\n",
       "  </tbody>\n",
       "</table>\n",
       "<p>261 rows × 7 columns</p>\n",
       "</div>"
      ],
      "text/plain": [
       "                                        Spill / Vessel  \\\n",
       "0                                   El Palito Refinery   \n",
       "1             2020 Pointe D'Esny MV Wakashio oil spill   \n",
       "2                             Trans Mountain oil spill   \n",
       "3                            Norilsk diesel fuel spill   \n",
       "4        Tanker truck pumping out sludge from a vessel   \n",
       "5                T.G. Williams Well No. 1 tank battery   \n",
       "6                            Greka Energy oil facility   \n",
       "7                                    True Oil pipeline   \n",
       "8                                Tanker truck rollover   \n",
       "9                         Keystone Pipeline 2019 spill   \n",
       "10                                       Willowton Oil   \n",
       "11   North East Brazil oil spill (suspected source:...   \n",
       "12   Guarello Island iron ore export terminal diese...   \n",
       "13              MV Chrysanthi S bunkering spill at sea   \n",
       "14                    MV Solomon Trader fuel oil spill   \n",
       "15                  SeaRose FPSO production ship spill   \n",
       "16                           Ulysse-Virginia collision   \n",
       "17             Port Erin diesel spill (source unknown)   \n",
       "18                               Doon, Iowa derailment   \n",
       "19         Sanchi oil tanker collision with CF Crystal   \n",
       "20                        Keystone Pipeline 2017 spill   \n",
       "21      Delta House floating production platform spill   \n",
       "22                                        Agia Zoni II   \n",
       "23                     East River insulating oil spill   \n",
       "24   Energy Transfer Partners Dakota Access Pipelin...   \n",
       "25                                    Ennore oil spill   \n",
       "26                         Belle Fourche pipeline leak   \n",
       "27                             Fox Creek pipeline leak   \n",
       "28             BP Clair production platform, North Sea   \n",
       "29                         2016 Colonial Pipeline Leak   \n",
       "..                                                 ...   \n",
       "231       Arizona Standard / Oregon Standard collision   \n",
       "232                                            Othello   \n",
       "233                                   Platform Charlie   \n",
       "234                                           SS Arrow   \n",
       "235                                    Hamilton Trader   \n",
       "236                                      Santa Barbara   \n",
       "237                                           Witwater   \n",
       "238                                        World Glory   \n",
       "239                                          Genevieve   \n",
       "240                                             Andron   \n",
       "241                                         Esso Essen   \n",
       "242                               General Colocotronis   \n",
       "243                                        Ocean Eagle   \n",
       "244                                        R.C. Stoner   \n",
       "245                                      Torrey Canyon   \n",
       "246            Mississippi River oil spill (1962–1963)   \n",
       "247                                      African Queen   \n",
       "248                               Avila Beach pipeline   \n",
       "249                                Guadalupe Oil Field   \n",
       "250                                         Sliedrecht   \n",
       "251                                SS Jacob Luckenbach   \n",
       "252                                      Esso Wheeling   \n",
       "253                                            Lincoln   \n",
       "254                               Greenpoint, Brooklyn   \n",
       "255                               Seria Field 14 wells   \n",
       "256                          Scuttled tanker El Grillo   \n",
       "257  SS Frank H. Buck / SS President Coolidge colli...   \n",
       "258                                    Lakeview Gusher   \n",
       "259                                   Thomas W. Lawson   \n",
       "260                                        SS Petriana   \n",
       "\n",
       "                                              Location  \\\n",
       "0                              Venezuela, Golfo Triste   \n",
       "1           Mauritius, Ile Aux Aigrettes and Mahebourg   \n",
       "2                 Canada, British Columbia, Abbotsford   \n",
       "3                    Russia, Norilsk, Krasnoyarsk Krai   \n",
       "4                 New Zealand, Tauranga, Bay of Plenty   \n",
       "5               United States, Oakland Creek, Longview   \n",
       "6                           United States, Santa Maria   \n",
       "7          United States, North Dakota, Red Wing Creek   \n",
       "8             United States, Santa Maria, Cuyama River   \n",
       "9            United States, Walsh County, North Dakota   \n",
       "10   South Africa, KwaZulu-Natal, near Pietermaritz...   \n",
       "11                         Brazil, 733 km from Paraiba   \n",
       "12           Chile, Guarello Island, Magallanes Region   \n",
       "13             South Africa, Algoa Bay, Port of Ngqura   \n",
       "14                     Solomon Islands, Rennell Island   \n",
       "15       Canada, St. John's, Newfoundland and Labrador   \n",
       "16             North of Corsica (international waters)   \n",
       "17                                         Isle of Man   \n",
       "18                    United States, Lyon County, Iowa   \n",
       "19                                      East China Sea   \n",
       "20        United States, Marshall County, South Dakota   \n",
       "21       United States, Gulf of Mexico, near Louisiana   \n",
       "22                       Greece, Saronic Gulf, Salamis   \n",
       "23                             United States, New York   \n",
       "24                         United States, North Dakota   \n",
       "25                         India, Chennai, Ennore Port   \n",
       "26   United States, North Dakota, Billings County, ...   \n",
       "27                          Canada, Alberta, Fox Creek   \n",
       "28            United Kingdom, Shetland, Clair platform   \n",
       "29               United States, Shelby County, Alabama   \n",
       "..                                                 ...   \n",
       "231                   United States, San Francisco Bay   \n",
       "232                              Sweden, Trälhavet Bay   \n",
       "233                           United States, Louisiana   \n",
       "234                Canada, Chedabucto Bay, Nova Scotia   \n",
       "235           United Kingdom, Liverpool Bay, Irish Sea   \n",
       "236           United States, Santa Barbara, California   \n",
       "237                  Panama, Canal Zone, Galeta Island   \n",
       "238               South Africa, 65 miles ENE of Durban   \n",
       "239               United States, Corpus Christi, Texas   \n",
       "240           Namibia, between Luderitz and Walvis Bay   \n",
       "241                                       South Africa   \n",
       "242                                 Bahamas, Eleuthera   \n",
       "243                 Puerto Rico, San Juan, Puerto Rico   \n",
       "244          United States, Pacific Ocean, Wake Island   \n",
       "245       United Kingdom, Cornwall and Isles of Scilly   \n",
       "246       United States, Savage and Mankato, Minnesota   \n",
       "247                United States, Ocean City, Maryland   \n",
       "248             United States, Avila Beach, California   \n",
       "249               United States, Guadalupe, California   \n",
       "250                 South Africa, Cape Town, Table Bay   \n",
       "251  United States, Gulf of the Farallons National ...   \n",
       "252           South Africa, Quoin Point near Cape Town   \n",
       "253           South Africa, Quoin Point near Cape Town   \n",
       "254  United States, Newtown Creek, Greenpoint, Broo...   \n",
       "255                                             Brunei   \n",
       "256                             Iceland, Seyðisfjörður   \n",
       "257       United States, San Francisco Bay, California   \n",
       "258             United States, Kern County, California   \n",
       "259                    United Kingdom, Isles of Scilly   \n",
       "260              Australia, Port Phillip Bay, Victoria   \n",
       "\n",
       "                                 Dates Min Tonnes Max Tonnes  \\\n",
       "0                        8 August 2020       2700       2700   \n",
       "1                         25 July 2020       1300       4300   \n",
       "2                         14 June 2020      118.5     184.87   \n",
       "3                          29 May 2020      17500      17500   \n",
       "4                        30 March 2020        1.7        1.7   \n",
       "5                        30 March 2020    unknown    unknown   \n",
       "6                        30 March 2020        NaN        NaN   \n",
       "7                        27 March 2020    unknown    unknown   \n",
       "8                        21 March 2020       14.6       19.5   \n",
       "9                      29 October 2019       1240       1240   \n",
       "10                         August 2019    unknown    unknown   \n",
       "11                        29 July 2019    unknown    unknown   \n",
       "12                        27 July 2019       35.4       35.4   \n",
       "13                         6 July 2019        0.2        0.4   \n",
       "14                     5 February 2019         75         80   \n",
       "15                    16 November 2018        219        219   \n",
       "16                        October 2018        NaN        NaN   \n",
       "17                        23 July 2018    unknown    unknown   \n",
       "18                        22 June 2018        520        520   \n",
       "19                      6 January 2018     138000     138000   \n",
       "20                    16 November 2017       1322       1322   \n",
       "21   11 October 2017 – 12 October 2017       1080       1280   \n",
       "22                   10 September 2017       2500       2500   \n",
       "23                          7 May 2017         97        101   \n",
       "24                        4 April 2017       0.27       0.27   \n",
       "25                     28 January 2017        251        251   \n",
       "26                     5 December 2016        571        571   \n",
       "27                      6 October 2016        240        240   \n",
       "28                      2 October 2016        105        105   \n",
       "29                   12 September 2016       1092       1092   \n",
       "..                                 ...        ...        ...   \n",
       "231                    17 January 1971       2700       2700   \n",
       "232                      20 March 1970      50000      60000   \n",
       "233                   10 February 1970    unknown    unknown   \n",
       "234                    4 February 1970      10330      10330   \n",
       "235                      30 April 1969        546        546   \n",
       "236                    28 January 1969       6000      14000   \n",
       "237                   13 December 1968       1910       1910   \n",
       "238                       13 June 1968      44058      46000   \n",
       "239                      25 April 1968    unknown    unknown   \n",
       "240                         8 May 1968        NaN        NaN   \n",
       "241                         April 1968       4092       4092   \n",
       "242                       7 March 1968       5047       5047   \n",
       "243                       3 March 1968      12000      12500   \n",
       "244                               1967      20000      20000   \n",
       "245                      18 March 1967      80000     119000   \n",
       "246  8 December 1962 – 23 January 1963      11000      15000   \n",
       "247                   30 December 1958      21000      21000   \n",
       "248                      1950's – 1996       1300       1300   \n",
       "249                      1950's – 1994      29000      29000   \n",
       "250                      November 1953       1000       1000   \n",
       "251             14 July 1953 – present       1484       1484   \n",
       "252                    4 November 1948        NaN        NaN   \n",
       "253                               1946        NaN        NaN   \n",
       "254                      1940s – 1950s      55200      97400   \n",
       "255      12 June 1945 – September 1945    unknown    unknown   \n",
       "256            February 1944 – present    unknown    unknown   \n",
       "257                       6 March 1937       8870       8870   \n",
       "258  14 March 1910 – 10 September 1911    1230000    1230000   \n",
       "259                   14 December 1907       7400       7400   \n",
       "260                   30 November 1903       1300       1300   \n",
       "\n",
       "                                                 Owner          Link(s)  \n",
       "0                               Petróleos de Venezuela              [1]  \n",
       "1    Wakashio Suisan Company Limited, Kagoshima, Japan          [2] [3]  \n",
       "2                                       Trans Mountain              [4]  \n",
       "3                                            Nornickel           [5][6]  \n",
       "4                                                  NaN           [7][8]  \n",
       "5                                    Fortune Resources              [9]  \n",
       "6                                                Greka             [10]  \n",
       "7                                         True Oil LLC             [11]  \n",
       "8                                                  NaN         [12][13]  \n",
       "9                              TransCanada Corporation             [14]  \n",
       "10                                     Willowton Group             [15]  \n",
       "11                                  Delta Tankers Ltd.             [16]  \n",
       "12                      Compañía de Acero del Pacífico         [17][18]  \n",
       "13         SA Marine Fuels (bunkering service company)         [19][20]  \n",
       "14                                   South Express Ltd         [21][22]  \n",
       "15                                        Husky Energy         [23][24]  \n",
       "16                                                 NaN             [25]  \n",
       "17                                             unknown             [26]  \n",
       "18                                        BNSF Railway             [27]  \n",
       "19                     National Iranian Tanker Company             [28]  \n",
       "20                             TransCanada Corporation             [29]  \n",
       "21                                    LLOG Exploration         [30][31]  \n",
       "22                                    Fos Petroleum SA             [32]  \n",
       "23                                          Con Edison             [33]  \n",
       "24                            Energy Transfer Partners             [34]  \n",
       "25                            Darya Shipping Solutions     [35][36][37]  \n",
       "26                      Belle Fourche Pipeline Company             [38]  \n",
       "27                                      Trilogy Energy             [39]  \n",
       "28                                                  BP             [40]  \n",
       "29                                Colonial Pipeline Co             [41]  \n",
       "..                                                 ...              ...  \n",
       "231                                                NaN  [273][274][275]  \n",
       "232                                                NaN       [151][174]  \n",
       "233                                                NaN            [276]  \n",
       "234                                                NaN            [277]  \n",
       "235                                                NaN            [278]  \n",
       "236                                                NaN            [279]  \n",
       "237                                                NaN            [280]  \n",
       "238                             World Tankers Co. Inc.  [281][282][283]  \n",
       "239                  Lykes Brothers Steamship Co. Ltd.            [284]  \n",
       "240                                                NaN       [285][286]  \n",
       "241                                                NaN            [285]  \n",
       "242                                                NaN            [287]  \n",
       "243                            Transocean Tankers Inc.       [288][289]  \n",
       "244                                                NaN            [260]  \n",
       "245                                                NaN       [151][163]  \n",
       "246                                                NaN              NaN  \n",
       "247                                                NaN       [290][291]  \n",
       "248                                                NaN            [292]  \n",
       "249                                                NaN            [292]  \n",
       "250                                                NaN            [293]  \n",
       "251                                                NaN            [294]  \n",
       "252                                                NaN            [295]  \n",
       "253                                                NaN            [295]  \n",
       "254                                                NaN            [296]  \n",
       "255                                                NaN  [297][298][299]  \n",
       "256                                                NaN            [300]  \n",
       "257                                                NaN       [273][301]  \n",
       "258                                                NaN            [302]  \n",
       "259                                                NaN            [303]  \n",
       "260                          Asiatic Petroleum Company            [304]  \n",
       "\n",
       "[261 rows x 7 columns]"
      ]
     },
     "execution_count": 4,
     "metadata": {},
     "output_type": "execute_result"
    }
   ],
   "source": [
    "tables[0]"
   ]
  },
  {
   "cell_type": "code",
   "execution_count": 5,
   "metadata": {},
   "outputs": [
    {
     "ename": "ValueError",
     "evalue": "could not convert string to float: 'unknown'",
     "output_type": "error",
     "traceback": [
      "\u001b[1;31m---------------------------------------------------------------------------\u001b[0m",
      "\u001b[1;31mValueError\u001b[0m                                Traceback (most recent call last)",
      "\u001b[1;32m<ipython-input-5-c98df38ff9cf>\u001b[0m in \u001b[0;36m<module>\u001b[1;34m\u001b[0m\n\u001b[1;32m----> 1\u001b[1;33m \u001b[0mfloat\u001b[0m\u001b[1;33m(\u001b[0m\u001b[1;34m'unknown'\u001b[0m\u001b[1;33m)\u001b[0m\u001b[1;33m\u001b[0m\u001b[1;33m\u001b[0m\u001b[0m\n\u001b[0m",
      "\u001b[1;31mValueError\u001b[0m: could not convert string to float: 'unknown'"
     ]
    }
   ],
   "source": [
    "float('unknown')"
   ]
  },
  {
   "cell_type": "code",
   "execution_count": 6,
   "metadata": {},
   "outputs": [
    {
     "data": {
      "text/plain": [
       "nan"
      ]
     },
     "execution_count": 6,
     "metadata": {},
     "output_type": "execute_result"
    }
   ],
   "source": [
    "float('nan')"
   ]
  },
  {
   "cell_type": "code",
   "execution_count": 9,
   "metadata": {},
   "outputs": [],
   "source": [
    "def robust_float(x):\n",
    "    try: \n",
    "        return float(x)\n",
    "    except ValueError:\n",
    "        return float('nan')"
   ]
  },
  {
   "cell_type": "code",
   "execution_count": 10,
   "metadata": {},
   "outputs": [],
   "source": [
    "tonnes = tables[0]['Max Tonnes'].apply(robust_float)"
   ]
  },
  {
   "cell_type": "code",
   "execution_count": 11,
   "metadata": {},
   "outputs": [],
   "source": [
    "import re"
   ]
  },
  {
   "cell_type": "code",
   "execution_count": 21,
   "metadata": {},
   "outputs": [
    {
     "data": {
      "text/plain": [
       "2020"
      ]
     },
     "execution_count": 21,
     "metadata": {},
     "output_type": "execute_result"
    }
   ],
   "source": [
    "int(re.search('\\d{4}', '30 September 2020').group())"
   ]
  },
  {
   "attachments": {
    "image.png": {
     "image/png": "[encoded data removed]"
    }
   },
   "cell_type": "markdown",
   "metadata": {},
   "source": [
    "What does this do?\n",
    "![image.png](attachment:image.png)\n",
    "https://stackoverflow.com/questions/11516335/import-example-d3-d4"
   ]
  },
  {
   "cell_type": "code",
   "execution_count": 13,
   "metadata": {},
   "outputs": [
    {
     "data": {
      "text/plain": [
       "'\\\\d{4}'"
      ]
     },
     "execution_count": 13,
     "metadata": {},
     "output_type": "execute_result"
    }
   ],
   "source": [
    "'\\d{4}'"
   ]
  },
  {
   "cell_type": "code",
   "execution_count": 34,
   "metadata": {},
   "outputs": [],
   "source": [
    "y = tables[0]['Dates'].apply(lambda x: int(re.search('\\d{4}', x).group()))  # get the years from the first table"
   ]
  },
  {
   "cell_type": "code",
   "execution_count": 29,
   "metadata": {},
   "outputs": [
    {
     "name": "stdout",
     "output_type": "stream",
     "text": [
      "0    2020\n",
      "1    2020\n",
      "2    2020\n",
      "3    2020\n",
      "4    2020\n",
      "Name: Dates, dtype: int64\n"
     ]
    },
    {
     "data": {
      "text/plain": [
       "256    1944\n",
       "257    1937\n",
       "258    1910\n",
       "259    1907\n",
       "260    1903\n",
       "Name: Dates, dtype: int64"
      ]
     },
     "execution_count": 29,
     "metadata": {},
     "output_type": "execute_result"
    }
   ],
   "source": [
    "print(y.head())\n",
    "y.tail()"
   ]
  },
  {
   "cell_type": "markdown",
   "metadata": {},
   "source": [
    "# groupby()"
   ]
  },
  {
   "cell_type": "code",
   "execution_count": 32,
   "metadata": {},
   "outputs": [
    {
     "data": {
      "text/plain": [
       "Dates\n",
       "2016      3108.00\n",
       "2017      5454.27\n",
       "2018    138739.00\n",
       "2019      1355.80\n",
       "2020     24706.07\n",
       "Name: Max Tonnes, dtype: float64"
      ]
     },
     "execution_count": 32,
     "metadata": {},
     "output_type": "execute_result"
    }
   ],
   "source": [
    "total_tonnes = tonnes.groupby(y).sum()\n",
    "total_tonnes.tail()"
   ]
  },
  {
   "cell_type": "code",
   "execution_count": 35,
   "metadata": {},
   "outputs": [],
   "source": [
    "total_tonnes_newest = total_tonnes[total_tonnes.index > 1970]"
   ]
  },
  {
   "cell_type": "code",
   "execution_count": 38,
   "metadata": {},
   "outputs": [
    {
     "data": {
      "text/plain": [
       "<matplotlib.axes._subplots.AxesSubplot at 0x23af177c1d0>"
      ]
     },
     "execution_count": 38,
     "metadata": {},
     "output_type": "execute_result"
    },
    {
     "data": {
      "image/png": "[encoded data removed]",
      "text/plain": [
       "<Figure size 432x288 with 1 Axes>"
      ]
     },
     "metadata": {
      "needs_background": "light"
     },
     "output_type": "display_data"
    }
   ],
   "source": [
    "total_tonnes_newest.plot(marker='o', ls='')"
   ]
  },
  {
   "cell_type": "code",
   "execution_count": 41,
   "metadata": {},
   "outputs": [
    {
     "data": {
      "text/plain": [
       "Dates\n",
       "1903     1\n",
       "1907     1\n",
       "1910     1\n",
       "1937     1\n",
       "1940     1\n",
       "1944     1\n",
       "1945     1\n",
       "1946     1\n",
       "1948     1\n",
       "1950     2\n",
       "1953     2\n",
       "1958     1\n",
       "1962     1\n",
       "1967     2\n",
       "1968     7\n",
       "1969     2\n",
       "1970     3\n",
       "1971     6\n",
       "1972     2\n",
       "1973     5\n",
       "1974     2\n",
       "1975     6\n",
       "1976     6\n",
       "1977     5\n",
       "1978     5\n",
       "1979     6\n",
       "1980     4\n",
       "1981     1\n",
       "1983     2\n",
       "1984     3\n",
       "        ..\n",
       "1991     6\n",
       "1992     4\n",
       "1993     1\n",
       "1994     4\n",
       "1995     2\n",
       "1996     3\n",
       "1997     1\n",
       "1998     1\n",
       "1999     3\n",
       "2000     4\n",
       "2001     8\n",
       "2002     2\n",
       "2003     2\n",
       "2004     7\n",
       "2005    10\n",
       "2006     4\n",
       "2007     7\n",
       "2008     4\n",
       "2009     5\n",
       "2010    14\n",
       "2011    10\n",
       "2012     5\n",
       "2013     8\n",
       "2014     6\n",
       "2015     4\n",
       "2016    10\n",
       "2017     6\n",
       "2018     5\n",
       "2019     6\n",
       "2020     9\n",
       "Name: Dates, Length: 66, dtype: int64"
      ]
     },
     "execution_count": 41,
     "metadata": {},
     "output_type": "execute_result"
    }
   ],
   "source": [
    "spills = y.groupby(y).size()  # count number of spills per group\n",
    "spills"
   ]
  },
  {
   "cell_type": "code",
   "execution_count": 43,
   "metadata": {},
   "outputs": [
    {
     "data": {
      "text/plain": [
       "Dates\n",
       "1971     6\n",
       "1972     2\n",
       "1973     5\n",
       "1974     2\n",
       "1975     6\n",
       "1976     6\n",
       "1977     5\n",
       "1978     5\n",
       "1979     6\n",
       "1980     4\n",
       "1981     1\n",
       "1983     2\n",
       "1984     3\n",
       "1985     3\n",
       "1986     1\n",
       "1987     2\n",
       "1988     2\n",
       "1989     6\n",
       "1990     4\n",
       "1991     6\n",
       "1992     4\n",
       "1993     1\n",
       "1994     4\n",
       "1995     2\n",
       "1996     3\n",
       "1997     1\n",
       "1998     1\n",
       "1999     3\n",
       "2000     4\n",
       "2001     8\n",
       "2002     2\n",
       "2003     2\n",
       "2004     7\n",
       "2005    10\n",
       "2006     4\n",
       "2007     7\n",
       "2008     4\n",
       "2009     5\n",
       "2010    14\n",
       "2011    10\n",
       "2012     5\n",
       "2013     8\n",
       "2014     6\n",
       "2015     4\n",
       "2016    10\n",
       "2017     6\n",
       "2018     5\n",
       "2019     6\n",
       "2020     9\n",
       "Name: Dates, dtype: int64"
      ]
     },
     "execution_count": 43,
     "metadata": {},
     "output_type": "execute_result"
    }
   ],
   "source": [
    "spills = spills[spills.index >1970]\n",
    "spills"
   ]
  },
  {
   "cell_type": "code",
   "execution_count": 44,
   "metadata": {},
   "outputs": [
    {
     "data": {
      "text/plain": [
       "<matplotlib.axes._subplots.AxesSubplot at 0x23af17f1198>"
      ]
     },
     "execution_count": 44,
     "metadata": {},
     "output_type": "execute_result"
    },
    {
     "data": {
      "image/png": "[encoded data removed]",
      "text/plain": [
       "<Figure size 432x288 with 1 Axes>"
      ]
     },
     "metadata": {
      "needs_background": "light"
     },
     "output_type": "display_data"
    }
   ],
   "source": [
    "spills.plot(marker='o', ls='')"
   ]
  },
  {
   "cell_type": "code",
   "execution_count": 45,
   "metadata": {},
   "outputs": [],
   "source": [
    "years = spills.index"
   ]
  },
  {
   "cell_type": "markdown",
   "metadata": {},
   "source": [
    "# TensorFlow"
   ]
  },
  {
   "cell_type": "code",
   "execution_count": 59,
   "metadata": {},
   "outputs": [],
   "source": [
    "import tensorflow as tf\n",
    "import tensorflow_probability as tfp\n",
    "\n",
    "tfd = tfp.distributions"
   ]
  },
  {
   "cell_type": "code",
   "execution_count": 64,
   "metadata": {},
   "outputs": [],
   "source": [
    "# I changed the 'l' distribution to logistic from exponential w/ rate=1. Any unknown errors might be bc of this\n",
    "\n",
    "def spill_count_model(rate_fn):\n",
    "    count_model = tfd.JointDistributionNamed({\n",
    "        'e': tfd.Exponential(rate=1.0),\n",
    "        'l': tfd.Logistic(loc=0, scale=1),\n",
    "        's': tfd.Uniform(float(years.min()), float(years.max())),\n",
    "        'd_t': lambda s, l, e: tfd.Independent(\n",
    "            tfd.Poisson( rate = rate_fn(\n",
    "                tf.constant(years, dtype=tf.float32),\n",
    "                s[..., tf.newaxis], l[...,tf.newaxis], e[...,tf.newaxis])\n",
    "            ),\n",
    "            reinterpreted_batch_ndims=1)\n",
    "    })\n",
    "    return count_model"
   ]
  },
  {
   "cell_type": "code",
   "execution_count": 49,
   "metadata": {},
   "outputs": [
    {
     "data": {
      "text/plain": [
       "<tf.Tensor: shape=(3,), dtype=int32, numpy=array([ 1,  1, 12])>"
      ]
     },
     "execution_count": 49,
     "metadata": {},
     "output_type": "execute_result"
    }
   ],
   "source": [
    "tf.where([True, True, False], 1, 12)"
   ]
  },
  {
   "cell_type": "code",
   "execution_count": 51,
   "metadata": {},
   "outputs": [],
   "source": [
    "def rate_fn_switch(years, s, l, e):\n",
    "    return tf.where(years < s, e, l)"
   ]
  },
  {
   "cell_type": "code",
   "execution_count": 53,
   "metadata": {},
   "outputs": [],
   "source": [
    "def rate_fn_sigmoid(years, s, l, e):\n",
    "    return e + tf.sigmoid(years - s) * (l - e)"
   ]
  },
  {
   "cell_type": "code",
   "execution_count": 54,
   "metadata": {},
   "outputs": [
    {
     "data": {
      "text/plain": [
       "<tf.Tensor: shape=(49,), dtype=int32, numpy=\n",
       "array([ 1,  1,  1,  1,  1,  1,  1,  1,  1,  1,  1,  1,  1,  1,  1,  1,  1,\n",
       "        1, 10, 10, 10, 10, 10, 10, 10, 10, 10, 10, 10, 10, 10, 10, 10, 10,\n",
       "       10, 10, 10, 10, 10, 10, 10, 10, 10, 10, 10, 10, 10, 10, 10])>"
      ]
     },
     "execution_count": 54,
     "metadata": {},
     "output_type": "execute_result"
    }
   ],
   "source": [
    "rate_fn_switch(years, 1990, 10, 1)"
   ]
  },
  {
   "cell_type": "code",
   "execution_count": 55,
   "metadata": {},
   "outputs": [
    {
     "data": {
      "text/plain": [
       "[<matplotlib.lines.Line2D at 0x23affd7d518>]"
      ]
     },
     "execution_count": 55,
     "metadata": {},
     "output_type": "execute_result"
    },
    {
     "data": {
      "image/png": "[encoded data removed]",
      "text/plain": [
       "<Figure size 432x288 with 1 Axes>"
      ]
     },
     "metadata": {
      "needs_background": "light"
     },
     "output_type": "display_data"
    }
   ],
   "source": [
    "plt.plot(years, rate_fn_sigmoid(years, 1990., 10, 1).numpy(), marker='o', ls='')"
   ]
  },
  {
   "cell_type": "code",
   "execution_count": 66,
   "metadata": {},
   "outputs": [],
   "source": [
    "model_switch = spill_count_model(rate_fn_switch)\n",
    "model_sigmoid = spill_count_model(rate_fn_sigmoid)"
   ]
  },
  {
   "cell_type": "code",
   "execution_count": 62,
   "metadata": {},
   "outputs": [
    {
     "data": {
      "text/plain": [
       "(('s', ()), ('l', ()), ('e', ()), ('d_t', ('s', 'l', 'e')))"
      ]
     },
     "execution_count": 62,
     "metadata": {},
     "output_type": "execute_result"
    }
   ],
   "source": [
    "model_sigmoid.resolve_graph()"
   ]
  },
  {
   "cell_type": "code",
   "execution_count": 67,
   "metadata": {},
   "outputs": [
    {
     "data": {
      "text/plain": [
       "[<matplotlib.lines.Line2D at 0x23a871c5978>]"
      ]
     },
     "execution_count": 67,
     "metadata": {},
     "output_type": "execute_result"
    },
    {
     "data": {
      "image/png": "[encoded data removed]",
      "text/plain": [
       "<Figure size 432x288 with 1 Axes>"
      ]
     },
     "metadata": {
      "needs_background": "light"
     },
     "output_type": "display_data"
    }
   ],
   "source": [
    "plt.plot(years, model_switch.sample()['d_t'])"
   ]
  },
  {
   "cell_type": "code",
   "execution_count": 68,
   "metadata": {},
   "outputs": [],
   "source": [
    "def target_log_prob(model, s, e, l):\n",
    "    return model.log_prob(s=s, e=e, l=l, d_t=spills)"
   ]
  },
  {
   "cell_type": "code",
   "execution_count": 69,
   "metadata": {},
   "outputs": [
    {
     "data": {
      "text/plain": [
       "<tf.Tensor: shape=(), dtype=float32, numpy=-127.64485>"
      ]
     },
     "execution_count": 69,
     "metadata": {},
     "output_type": "execute_result"
    }
   ],
   "source": [
    "target_log_prob(model_switch, 2000, 4, 8)"
   ]
  },
  {
   "cell_type": "markdown",
   "metadata": {},
   "source": [
    "Hmm, what is this doing?"
   ]
  },
  {
   "cell_type": "markdown",
   "metadata": {},
   "source": [
    "# MAP estimate"
   ]
  },
  {
   "cell_type": "code",
   "execution_count": 70,
   "metadata": {},
   "outputs": [],
   "source": [
    "s, e, l = tf.Variable(1990.), tf.Variable(1.), tf.Variable(1.)"
   ]
  },
  {
   "cell_type": "code",
   "execution_count": 71,
   "metadata": {},
   "outputs": [],
   "source": [
    "loss = lambda: -target_log_prob(model_sigmoid, s, e, l)"
   ]
  },
  {
   "cell_type": "code",
   "execution_count": 72,
   "metadata": {},
   "outputs": [
    {
     "data": {
      "text/plain": [
       "<tf.Tensor: shape=(), dtype=float32, numpy=303.15903>"
      ]
     },
     "execution_count": 72,
     "metadata": {},
     "output_type": "execute_result"
    }
   ],
   "source": [
    "loss()"
   ]
  },
  {
   "cell_type": "code",
   "execution_count": 73,
   "metadata": {},
   "outputs": [],
   "source": [
    "opt = tf.optimizers.SGD(learning_rate=0.2)\n",
    "loss_hist = []\n",
    "var_hist = {v: [] for v in ['s', 'e', 'l']}\n",
    "for _ in range(50):\n",
    "    opt.minimize(loss, [s,e,l])\n",
    "    loss_hist.append(loss().numpy())\n",
    "    var_hist['e'].append(e.numpy())\n",
    "    var_hist['s'].append(s.numpy())\n",
    "    var_hist['l'].append(l.numpy())"
   ]
  },
  {
   "cell_type": "code",
   "execution_count": 74,
   "metadata": {},
   "outputs": [
    {
     "data": {
      "text/plain": [
       "[<matplotlib.lines.Line2D at 0x23a88464eb8>]"
      ]
     },
     "execution_count": 74,
     "metadata": {},
     "output_type": "execute_result"
    },
    {
     "data": {
      "image/png": "[encoded data removed]",
      "text/plain": [
       "<Figure size 432x288 with 1 Axes>"
      ]
     },
     "metadata": {
      "needs_background": "light"
     },
     "output_type": "display_data"
    }
   ],
   "source": [
    "plt.plot(loss_hist)"
   ]
  },
  {
   "cell_type": "code",
   "execution_count": 75,
   "metadata": {},
   "outputs": [
    {
     "data": {
      "text/plain": [
       "(<tf.Variable 'Variable:0' shape=() dtype=float32, numpy=2002.4525>,\n",
       " <tf.Variable 'Variable:0' shape=() dtype=float32, numpy=3.3553953>,\n",
       " <tf.Variable 'Variable:0' shape=() dtype=float32, numpy=6.541172>)"
      ]
     },
     "execution_count": 75,
     "metadata": {},
     "output_type": "execute_result"
    }
   ],
   "source": [
    "s,e,l"
   ]
  },
  {
   "cell_type": "markdown",
   "metadata": {},
   "source": [
    "# TensorFlow refresher "
   ]
  },
  {
   "cell_type": "code",
   "execution_count": 76,
   "metadata": {},
   "outputs": [
    {
     "data": {
      "text/plain": [
       "<tf.Tensor: shape=(200,), dtype=float32, numpy=\n",
       "array([0.        , 0.00502513, 0.01005025, 0.01507538, 0.0201005 ,\n",
       "       0.02512563, 0.03015075, 0.03517588, 0.040201  , 0.04522613,\n",
       "       0.05025126, 0.05527638, 0.06030151, 0.06532663, 0.07035176,\n",
       "       0.07537688, 0.08040201, 0.08542714, 0.09045226, 0.09547739,\n",
       "       0.10050251, 0.10552764, 0.11055277, 0.11557789, 0.12060301,\n",
       "       0.12562814, 0.13065326, 0.1356784 , 0.14070351, 0.14572865,\n",
       "       0.15075377, 0.1557789 , 0.16080402, 0.16582914, 0.17085427,\n",
       "       0.17587939, 0.18090452, 0.18592964, 0.19095477, 0.1959799 ,\n",
       "       0.20100503, 0.20603015, 0.21105528, 0.2160804 , 0.22110553,\n",
       "       0.22613065, 0.23115578, 0.2361809 , 0.24120602, 0.24623115,\n",
       "       0.2512563 , 0.2562814 , 0.26130652, 0.26633164, 0.2713568 ,\n",
       "       0.2763819 , 0.28140703, 0.28643215, 0.2914573 , 0.2964824 ,\n",
       "       0.30150753, 0.30653265, 0.3115578 , 0.31658292, 0.32160804,\n",
       "       0.32663316, 0.33165827, 0.33668342, 0.34170854, 0.34673366,\n",
       "       0.35175878, 0.35678393, 0.36180905, 0.36683416, 0.37185928,\n",
       "       0.37688443, 0.38190955, 0.38693467, 0.3919598 , 0.39698493,\n",
       "       0.40201005, 0.40703517, 0.4120603 , 0.4170854 , 0.42211056,\n",
       "       0.42713568, 0.4321608 , 0.4371859 , 0.44221106, 0.44723618,\n",
       "       0.4522613 , 0.45728642, 0.46231157, 0.46733668, 0.4723618 ,\n",
       "       0.47738692, 0.48241204, 0.4874372 , 0.4924623 , 0.49748743,\n",
       "       0.5025126 , 0.50753766, 0.5125628 , 0.51758796, 0.52261305,\n",
       "       0.5276382 , 0.5326633 , 0.53768843, 0.5427136 , 0.5477387 ,\n",
       "       0.5527638 , 0.55778897, 0.56281406, 0.5678392 , 0.5728643 ,\n",
       "       0.57788944, 0.5829146 , 0.5879397 , 0.5929648 , 0.5979899 ,\n",
       "       0.60301507, 0.6080402 , 0.6130653 , 0.61809045, 0.6231156 ,\n",
       "       0.6281407 , 0.63316584, 0.6381909 , 0.6432161 , 0.6482412 ,\n",
       "       0.6532663 , 0.65829146, 0.66331655, 0.6683417 , 0.67336684,\n",
       "       0.67839193, 0.6834171 , 0.68844223, 0.6934673 , 0.69849247,\n",
       "       0.70351756, 0.7085427 , 0.71356785, 0.71859294, 0.7236181 ,\n",
       "       0.7286432 , 0.7336683 , 0.7386935 , 0.74371856, 0.7487437 ,\n",
       "       0.75376886, 0.75879395, 0.7638191 , 0.7688442 , 0.77386934,\n",
       "       0.7788945 , 0.7839196 , 0.7889447 , 0.79396987, 0.79899496,\n",
       "       0.8040201 , 0.8090452 , 0.81407034, 0.8190955 , 0.8241206 ,\n",
       "       0.8291457 , 0.8341708 , 0.83919597, 0.8442211 , 0.8492462 ,\n",
       "       0.85427135, 0.8592965 , 0.8643216 , 0.86934674, 0.8743718 ,\n",
       "       0.879397  , 0.8844221 , 0.8894472 , 0.89447236, 0.89949745,\n",
       "       0.9045226 , 0.90954775, 0.91457283, 0.919598  , 0.92462313,\n",
       "       0.9296482 , 0.93467337, 0.93969846, 0.9447236 , 0.94974875,\n",
       "       0.95477384, 0.959799  , 0.9648241 , 0.9698492 , 0.9748744 ,\n",
       "       0.97989947, 0.9849246 , 0.98994976, 0.99497485, 1.        ],\n",
       "      dtype=float32)>"
      ]
     },
     "execution_count": 76,
     "metadata": {},
     "output_type": "execute_result"
    }
   ],
   "source": [
    "thetas = tf.linspace(0., 1., 200)\n",
    "thetas  # what is theta supposed to be here?"
   ]
  },
  {
   "cell_type": "code",
   "execution_count": 77,
   "metadata": {},
   "outputs": [],
   "source": [
    "# simple model with 50 coin tosses\n",
    "simple_model = tfd.Binomial(total_count=50, probs=thetas)"
   ]
  },
  {
   "cell_type": "code",
   "execution_count": 79,
   "metadata": {},
   "outputs": [
    {
     "data": {
      "text/plain": [
       "[<matplotlib.lines.Line2D at 0x23a88522198>]"
      ]
     },
     "execution_count": 79,
     "metadata": {},
     "output_type": "execute_result"
    },
    {
     "data": {
      "image/png": "[encoded data removed]",
      "text/plain": [
       "<Figure size 432x288 with 1 Axes>"
      ]
     },
     "metadata": {
      "needs_background": "light"
     },
     "output_type": "display_data"
    }
   ],
   "source": [
    "# given that we get 20 times 'heads', what is the likelihood of each theta?\n",
    "plt.plot(thetas, simple_model.prob(20))"
   ]
  },
  {
   "cell_type": "code",
   "execution_count": 80,
   "metadata": {},
   "outputs": [],
   "source": [
    "# sample for out thetas, with probability given by the model\n",
    "idx = tf.random.categorical([simple_model.log_prob(20)], num_samples=10000)[0]"
   ]
  },
  {
   "cell_type": "code",
   "execution_count": 81,
   "metadata": {},
   "outputs": [],
   "source": [
    "theta_sample = tf.gather(thetas, idx).numpy()"
   ]
  },
  {
   "cell_type": "code",
   "execution_count": 82,
   "metadata": {},
   "outputs": [
    {
     "data": {
      "image/png": "[encoded data removed]",
      "text/plain": [
       "<Figure size 432x288 with 1 Axes>"
      ]
     },
     "metadata": {
      "needs_background": "light"
     },
     "output_type": "display_data"
    }
   ],
   "source": [
    "plt.hist(theta_sample, bins=20)\n",
    "None"
   ]
  },
  {
   "cell_type": "code",
   "execution_count": 84,
   "metadata": {},
   "outputs": [
    {
     "name": "stdout",
     "output_type": "stream",
     "text": [
      "0.9171 of samples is below 0.5\n"
     ]
    }
   ],
   "source": [
    "# with this sample, we can now answer questions, like how certain are we that the coin is 'unfair'?\n",
    "print(f'{(theta_sample < 0.5).mean()} of samples is below 0.5')"
   ]
  },
  {
   "cell_type": "markdown",
   "metadata": {},
   "source": [
    "# Grid approximation"
   ]
  },
  {
   "cell_type": "code",
   "execution_count": 85,
   "metadata": {},
   "outputs": [],
   "source": [
    "es = tf.linspace(0., 6., 60)\n",
    "ls = tf.linspace(1., 12., 60)\n",
    "switches = tf.linspace(1990., 2015., 60)"
   ]
  },
  {
   "cell_type": "code",
   "execution_count": 86,
   "metadata": {},
   "outputs": [],
   "source": [
    "grid = tf.meshgrid(switches, es, ls)"
   ]
  },
  {
   "cell_type": "code",
   "execution_count": 87,
   "metadata": {},
   "outputs": [
    {
     "data": {
      "text/plain": [
       "<tf.Tensor: shape=(216000,), dtype=float32, numpy=array([1990., 1990., 1990., ..., 2015., 2015., 2015.], dtype=float32)>"
      ]
     },
     "execution_count": 87,
     "metadata": {},
     "output_type": "execute_result"
    }
   ],
   "source": [
    "tf.reshape(grid[0], [-1])"
   ]
  },
  {
   "cell_type": "code",
   "execution_count": 89,
   "metadata": {},
   "outputs": [],
   "source": [
    "log_probs = target_log_prob(model_sigmoid, *[tf.reshape(grid[i], [-1]) for i in range(3)])"
   ]
  },
  {
   "cell_type": "code",
   "execution_count": 90,
   "metadata": {},
   "outputs": [],
   "source": [
    "log_probs = tf.reshape(log_probs, [len(switches), len(es), len(ls)])"
   ]
  },
  {
   "cell_type": "code",
   "execution_count": 91,
   "metadata": {},
   "outputs": [
    {
     "data": {
      "text/plain": [
       "[<matplotlib.lines.Line2D at 0x23a885d1dd8>]"
      ]
     },
     "execution_count": 91,
     "metadata": {},
     "output_type": "execute_result"
    },
    {
     "data": {
      "image/png": "[encoded data removed]",
      "text/plain": [
       "<Figure size 432x288 with 1 Axes>"
      ]
     },
     "metadata": {
      "needs_background": "light"
     },
     "output_type": "display_data"
    }
   ],
   "source": [
    "plt.plot(switches, log_probs[:, 20, 20])"
   ]
  },
  {
   "cell_type": "code",
   "execution_count": 92,
   "metadata": {},
   "outputs": [
    {
     "data": {
      "text/plain": [
       "(<tf.Tensor: shape=(), dtype=float32, numpy=2.0338984>,\n",
       " <tf.Tensor: shape=(), dtype=float32, numpy=4.7288136>)"
      ]
     },
     "execution_count": 92,
     "metadata": {},
     "output_type": "execute_result"
    }
   ],
   "source": [
    "es[20], ls[20]"
   ]
  },
  {
   "cell_type": "code",
   "execution_count": 93,
   "metadata": {},
   "outputs": [
    {
     "data": {
      "text/plain": [
       "(<tf.Tensor: shape=(), dtype=float32, numpy=0.5084746>,\n",
       " <tf.Tensor: shape=(), dtype=float32, numpy=7.5254235>)"
      ]
     },
     "execution_count": 93,
     "metadata": {},
     "output_type": "execute_result"
    }
   ],
   "source": [
    "es[5], ls[35]"
   ]
  },
  {
   "cell_type": "code",
   "execution_count": 94,
   "metadata": {},
   "outputs": [
    {
     "data": {
      "text/plain": [
       "[<matplotlib.lines.Line2D at 0x23a885d1d68>]"
      ]
     },
     "execution_count": 94,
     "metadata": {},
     "output_type": "execute_result"
    },
    {
     "data": {
      "image/png": "[encoded data removed]",
      "text/plain": [
       "<Figure size 432x288 with 1 Axes>"
      ]
     },
     "metadata": {
      "needs_background": "light"
     },
     "output_type": "display_data"
    }
   ],
   "source": [
    "plt.plot(switches, log_probs[:,5,5])"
   ]
  },
  {
   "cell_type": "code",
   "execution_count": 96,
   "metadata": {},
   "outputs": [
    {
     "data": {
      "text/plain": [
       "<tf.Tensor: shape=(), dtype=float32, numpy=-120.048775>"
      ]
     },
     "execution_count": 96,
     "metadata": {},
     "output_type": "execute_result"
    }
   ],
   "source": [
    "tf.reduce_max(log_probs)"
   ]
  },
  {
   "cell_type": "code",
   "execution_count": 97,
   "metadata": {},
   "outputs": [
    {
     "data": {
      "text/plain": [
       "[<matplotlib.lines.Line2D at 0x23a8867e358>]"
      ]
     },
     "execution_count": 97,
     "metadata": {},
     "output_type": "execute_result"
    },
    {
     "data": {
      "image/png": "[encoded data removed]",
      "text/plain": [
       "<Figure size 432x288 with 1 Axes>"
      ]
     },
     "metadata": {
      "needs_background": "light"
     },
     "output_type": "display_data"
    }
   ],
   "source": [
    "plt.plot(es, log_probs[10,:,10])"
   ]
  },
  {
   "cell_type": "code",
   "execution_count": 98,
   "metadata": {},
   "outputs": [
    {
     "data": {
      "text/plain": [
       "[<matplotlib.lines.Line2D at 0x23a886f6e48>]"
      ]
     },
     "execution_count": 98,
     "metadata": {},
     "output_type": "execute_result"
    },
    {
     "data": {
      "image/png": "[encoded data removed]",
      "text/plain": [
       "<Figure size 432x288 with 1 Axes>"
      ]
     },
     "metadata": {
      "needs_background": "light"
     },
     "output_type": "display_data"
    }
   ],
   "source": [
    "plt.plot(ls, log_probs[10,10,:])"
   ]
  },
  {
   "cell_type": "code",
   "execution_count": 99,
   "metadata": {},
   "outputs": [],
   "source": [
    "idx = tf.random.categorical(logits=tf.reshape(log_probs, [1,-1]), num_samples=10000)[0]"
   ]
  },
  {
   "cell_type": "code",
   "execution_count": 100,
   "metadata": {},
   "outputs": [
    {
     "data": {
      "text/plain": [
       "(array([2.000e+00, 1.000e+00, 6.000e+00, 7.000e+00, 3.700e+01, 2.610e+02,\n",
       "        1.214e+03, 1.649e+03, 3.344e+03, 2.078e+03, 1.038e+03, 2.370e+02,\n",
       "        1.060e+02, 1.800e+01, 2.000e+00]),\n",
       " array([1990.4237, 1991.8926, 1993.3616, 1994.8304, 1996.2994, 1997.7683,\n",
       "        1999.2373, 2000.7062, 2002.1752, 2003.644 , 2005.113 , 2006.5819,\n",
       "        2008.0509, 2009.5198, 2010.9888, 2012.4576], dtype=float32),\n",
       " <a list of 15 Patch objects>)"
      ]
     },
     "execution_count": 100,
     "metadata": {},
     "output_type": "execute_result"
    },
    {
     "data": {
      "image/png": "[encoded data removed]",
      "text/plain": [
       "<Figure size 432x288 with 1 Axes>"
      ]
     },
     "metadata": {
      "needs_background": "light"
     },
     "output_type": "display_data"
    }
   ],
   "source": [
    "plt.hist(tf.gather(tf.reshape(grid[0], [-1]), idx).numpy(), bins=15)"
   ]
  },
  {
   "cell_type": "code",
   "execution_count": 101,
   "metadata": {},
   "outputs": [
    {
     "data": {
      "text/plain": [
       "(array([   7.,   46.,   62.,  460., 1104.,  930., 2222., 2222.,  919.,\n",
       "        1234.,  519.,  119.,  116.,   36.,    4.]),\n",
       " array([2.237288 , 2.4067795, 2.576271 , 2.7457626, 2.915254 , 3.0847456,\n",
       "        3.2542372, 3.4237287, 3.59322  , 3.7627115, 3.932203 , 4.1016946,\n",
       "        4.2711864, 4.4406776, 4.6101694, 4.7796607], dtype=float32),\n",
       " <a list of 15 Patch objects>)"
      ]
     },
     "execution_count": 101,
     "metadata": {},
     "output_type": "execute_result"
    },
    {
     "data": {
      "image/png": "[encoded data removed]",
      "text/plain": [
       "<Figure size 432x288 with 1 Axes>"
      ]
     },
     "metadata": {
      "needs_background": "light"
     },
     "output_type": "display_data"
    }
   ],
   "source": [
    "plt.hist(tf.gather(tf.reshape(grid[1], [-1]), idx).numpy(), bins=15)"
   ]
  },
  {
   "cell_type": "code",
   "execution_count": 102,
   "metadata": {},
   "outputs": [
    {
     "data": {
      "text/plain": [
       "(array([  37.,  169.,  217.,  918., 1782., 1158., 2192., 1743.,  991.,\n",
       "         313.,  316.,   71.,   72.,   16.,    5.]),\n",
       " array([4.7288136, 5.039548 , 5.3502827, 5.661017 , 5.9717517, 6.282486 ,\n",
       "        6.59322  , 6.903955 , 7.2146893, 7.525424 , 7.8361583, 8.146893 ,\n",
       "        8.457627 , 8.768362 , 9.079096 , 9.389831 ], dtype=float32),\n",
       " <a list of 15 Patch objects>)"
      ]
     },
     "execution_count": 102,
     "metadata": {},
     "output_type": "execute_result"
    },
    {
     "data": {
      "image/png": "[encoded data removed]",
      "text/plain": [
       "<Figure size 432x288 with 1 Axes>"
      ]
     },
     "metadata": {
      "needs_background": "light"
     },
     "output_type": "display_data"
    }
   ],
   "source": [
    "plt.hist(tf.gather(tf.reshape(grid[2], [-1]), idx).numpy(), bins=15)"
   ]
  },
  {
   "cell_type": "code",
   "execution_count": null,
   "metadata": {},
   "outputs": [],
   "source": []
  }
 ],
 "metadata": {
  "kernelspec": {
   "display_name": "Python 3",
   "language": "python",
   "name": "python3"
  },
  "language_info": {
   "codemirror_mode": {
    "name": "ipython",
    "version": 3
   },
   "file_extension": ".py",
   "mimetype": "text/x-python",
   "name": "python",
   "nbconvert_exporter": "python",
   "pygments_lexer": "ipython3",
   "version": "3.7.3"
  }
 },
 "nbformat": 4,
 "nbformat_minor": 2
}
