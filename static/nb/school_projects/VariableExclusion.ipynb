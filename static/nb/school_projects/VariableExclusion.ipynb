{
 "cells": [
  {
   "cell_type": "markdown",
   "metadata": {},
   "source": [
    "# Choosing variables for model\n",
    "\n",
    "In this notebook, we will explore some basic criteria for variable selection within models, along with the difference between qualitative and quantitative variables. It can sometimes be helpful to reduce the number, or dimensions, of variables being used to create models when it comes to visualizing and interpreting results of the model. In most cases, with dimensions higher than three, it becomes complicated to present correlations of a model in an understandable fashion. We therefore would like to find some way to evaluate and compare different combinations of variables, to see which gives the lowest mean square error of new data.\n",
    "\n",
    "As you've probably noticed, mean square error of new data is usually the go-to criteria when comparing model's since if gives a precise measurement of the efficiency of our model. \n",
    "\n",
    "\n",
    "## Quantitative vs. Qualitative data\n",
    "\n",
    "In [Linear, Logarithmic, and Polynomial Regressions](/LinearLogarithmicPolynomialRegressions.ipynb) we looked at a data set where both variables consisted of _quantitative data._ This means that the data had some number value. But not all data needs to have some innate, number value. Take for example flipping a coin, or comparing a placebo to a medicine, or a person's gender. All of these are examples of some non-numeric characteristics data can have. Categorical data like the ones mentioned here is called _qualitative data_. \n",
    "\n",
    "Let's read in a data set containing some qualitative data.\n"
   ]
  },
  {
   "cell_type": "code",
   "execution_count": 6,
   "metadata": {},
   "outputs": [
    {
     "name": "stdout",
     "output_type": "stream",
     "text": [
      "'data.frame':\t397 obs. of  7 variables:\n",
      " $ drinks  : num  11.1 0 48 13 76 ...\n",
      " $ ccstatus: int  1 1 1 1 1 1 1 1 1 1 ...\n",
      " $ cigs    : int  20 6 20 10 40 40 40 20 30 20 ...\n",
      " $ age     : int  52 54 47 39 47 47 37 61 59 36 ...\n",
      " $ sex     : int  0 0 0 0 1 0 0 0 0 0 ...\n",
      " $ M_drinks: int  0 0 0 0 0 0 0 0 0 0 ...\n",
      " $ M_cigs  : int  0 0 0 0 0 0 0 0 0 0 ...\n"
     ]
    },
    {
     "data": {
      "text/plain": [
       "     drinks          ccstatus           cigs            age    \n",
       " Min.   :  0.00   Min.   :0.0000   Min.   : 0.00   Min.   :21  \n",
       " 1st Qu.:  1.50   1st Qu.:0.0000   1st Qu.: 3.00   1st Qu.:48  \n",
       " Median : 15.75   Median :0.0000   Median :20.00   Median :56  \n",
       " Mean   : 31.40   Mean   :0.4887   Mean   :16.36   Mean   :56  \n",
       " 3rd Qu.: 48.00   3rd Qu.:1.0000   3rd Qu.:20.00   3rd Qu.:65  \n",
       " Max.   :140.00   Max.   :1.0000   Max.   :60.00   Max.   :80  \n",
       "      sex            M_drinks            M_cigs       \n",
       " Min.   :0.0000   Min.   :0.000000   Min.   :0.00000  \n",
       " 1st Qu.:0.0000   1st Qu.:0.000000   1st Qu.:0.00000  \n",
       " Median :0.0000   Median :0.000000   Median :0.00000  \n",
       " Mean   :0.2771   Mean   :0.005038   Mean   :0.01511  \n",
       " 3rd Qu.:1.0000   3rd Qu.:0.000000   3rd Qu.:0.00000  \n",
       " Max.   :1.0000   Max.   :1.000000   Max.   :1.00000  "
      ]
     },
     "metadata": {},
     "output_type": "display_data"
    }
   ],
   "source": [
    "oral_ca <- read.csv(\"oral_ca.csv\", header = TRUE)\n",
    "str(oral_ca)\n",
    "summary(oral_ca)"
   ]
  },
  {
   "cell_type": "markdown",
   "metadata": {},
   "source": [
    "As we can somewhat see in the output above, there are some variables with discrete values of either 0 or 1 (ccstatus & sex). \n",
    "\n",
    "### Frequencies and probabilities\n",
    "\n",
    "We begin by looking at the correlation between _ccstatus_ and _cigs_ as a dichotomized variable. The table below shows the observed frequencies of cases and controls for observations in the non-smokers and smokers groups. We observe that the number of smokers in the dataset is about three times larger than the number of non-smokers, and also that the majority of smokers are in the case group, while the majority of non-smokers are in the control group.\n"
   ]
  },
  {
   "cell_type": "code",
   "execution_count": 9,
   "metadata": {},
   "outputs": [
    {
     "data": {
      "text/plain": [
       "             \n",
       "              Case Control\n",
       "  Non-smokers   22      69\n",
       "  Smokers      172     134"
      ]
     },
     "metadata": {},
     "output_type": "display_data"
    }
   ],
   "source": [
    "library(tidyverse)\n",
    "options(warn=1)\n",
    "\n",
    "oral_ca <- oral_ca %>%\n",
    "    mutate(cigs.d = ifelse(cigs > 0, \"Smokers\", \"Non-smokers\"),\n",
    "    ccstatus.d = ifelse(ccstatus == 1, \"Case\", \"Control\"))\n",
    "table(oral_ca$cigs.d, oral_ca$ccstatus.d)\n"
   ]
  },
  {
   "cell_type": "markdown",
   "metadata": {},
   "source": [
    "We can also compute the estimated probabilities, with their standard errors, of being a case for each of the groups (“Smokers” and “Non-smokers”). The results are shown below. We also include the probability for being a case for the observations in the sample as a whole. The estimated probability of a smoker being a case is approximately 0.562, with a standard error of 0.028. For a non-smoker the corresponding numbers are 0.242 and 0.045. (For the whole sample the estimated probability is 0.489 with a standard error of 0.025.)"
   ]
  },
  {
   "cell_type": "code",
   "execution_count": 10,
   "metadata": {},
   "outputs": [
    {
     "data": {
      "text/html": [
       "<table>\n",
       "<caption>A matrix: 6 × 1 of type dbl</caption>\n",
       "<tbody>\n",
       "\t<tr><th scope=row>pi.smoke.hat</th><td>0.56209150</td></tr>\n",
       "\t<tr><th scope=row>pi.nonsmoke.hat</th><td>0.24175824</td></tr>\n",
       "\t<tr><th scope=row>pi.common.hat</th><td>0.48866499</td></tr>\n",
       "\t<tr><th scope=row>se.pi.smoke.hat</th><td>0.02836185</td></tr>\n",
       "\t<tr><th scope=row>se.pi.nonsmoke.hat</th><td>0.04488216</td></tr>\n",
       "\t<tr><th scope=row>se.pi.common.hat</th><td>0.02508783</td></tr>\n",
       "</tbody>\n",
       "</table>\n"
      ],
      "text/latex": [
       "A matrix: 6 × 1 of type dbl\n",
       "\\begin{tabular}{r|l}\n",
       "\tpi.smoke.hat & 0.56209150\\\\\n",
       "\tpi.nonsmoke.hat & 0.24175824\\\\\n",
       "\tpi.common.hat & 0.48866499\\\\\n",
       "\tse.pi.smoke.hat & 0.02836185\\\\\n",
       "\tse.pi.nonsmoke.hat & 0.04488216\\\\\n",
       "\tse.pi.common.hat & 0.02508783\\\\\n",
       "\\end{tabular}\n"
      ],
      "text/markdown": [
       "\n",
       "A matrix: 6 × 1 of type dbl\n",
       "\n",
       "| pi.smoke.hat | 0.56209150 |\n",
       "| pi.nonsmoke.hat | 0.24175824 |\n",
       "| pi.common.hat | 0.48866499 |\n",
       "| se.pi.smoke.hat | 0.02836185 |\n",
       "| se.pi.nonsmoke.hat | 0.04488216 |\n",
       "| se.pi.common.hat | 0.02508783 |\n",
       "\n"
      ],
      "text/plain": [
       "                   [,1]      \n",
       "pi.smoke.hat       0.56209150\n",
       "pi.nonsmoke.hat    0.24175824\n",
       "pi.common.hat      0.48866499\n",
       "se.pi.smoke.hat    0.02836185\n",
       "se.pi.nonsmoke.hat 0.04488216\n",
       "se.pi.common.hat   0.02508783"
      ]
     },
     "metadata": {},
     "output_type": "display_data"
    }
   ],
   "source": [
    "probs <- oral_ca %>%\n",
    "    summarise(pi.smoke.hat =\n",
    "        sum(ccstatus[cigs.d == \"Smokers\"]) / sum(cigs.d == \"Smokers\"),\n",
    "    pi.nonsmoke.hat =\n",
    "        sum(ccstatus[cigs.d == \"Non-smokers\"]) / sum(cigs.d == \"Non-smokers\"),\n",
    "    pi.common.hat =\n",
    "        sum(ccstatus) / n(),\n",
    "    se.pi.smoke.hat =\n",
    "        sqrt(pi.smoke.hat * (1 - pi.smoke.hat) / sum(cigs.d == \"Smokers\")),\n",
    "    se.pi.nonsmoke.hat =\n",
    "        sqrt(pi.nonsmoke.hat * (1 - pi.nonsmoke.hat) / sum(cigs.d == \"Non-smokers\")),\n",
    "    se.pi.common.hat =\n",
    "        sqrt(pi.common.hat * (1 - pi.common.hat) / n()))\n",
    "\n",
    "t(probs)"
   ]
  },
  {
   "cell_type": "markdown",
   "metadata": {},
   "source": [
    "### Test for equal probabilities\n",
    "\n",
    "Using the estimated probabilities and their standard errors from above, we compute the likelihood ratio test statistics, _w_. This test statistics is 2(log(L1)–log(L0)) where L0 is the maximized loglikelihood function under the null hypothesis that the probabilities are equal (i.e. does not depend\n",
    "upon being a smoker or not) and L1 the maximized log-likelihood function without that constraint (Azzalini & Scarpa, 2012). We also compute the p-value of w based on the chi-squared distribution with 1 df. As the p-value is close to zero, we reject the null hypothesis of equal probability.\n"
   ]
  },
  {
   "cell_type": "code",
   "execution_count": 11,
   "metadata": {},
   "outputs": [
    {
     "data": {
      "text/html": [
       "<table>\n",
       "<caption>A matrix: 4 × 1 of type dbl</caption>\n",
       "<tbody>\n",
       "\t<tr><th scope=row>llik_pi.smoke.hat_pi.nonsmoke.hat</th><td>-2.600694e+02</td></tr>\n",
       "\t<tr><th scope=row>llik_pi.common.hat</th><td>-2.750774e+02</td></tr>\n",
       "\t<tr><th scope=row>w</th><td> 3.001603e+01</td></tr>\n",
       "\t<tr><th scope=row>p.value</th><td> 4.284888e-08</td></tr>\n",
       "</tbody>\n",
       "</table>\n"
      ],
      "text/latex": [
       "A matrix: 4 × 1 of type dbl\n",
       "\\begin{tabular}{r|l}\n",
       "\tllik\\_pi.smoke.hat\\_pi.nonsmoke.hat & -2.600694e+02\\\\\n",
       "\tllik\\_pi.common.hat & -2.750774e+02\\\\\n",
       "\tw &  3.001603e+01\\\\\n",
       "\tp.value &  4.284888e-08\\\\\n",
       "\\end{tabular}\n"
      ],
      "text/markdown": [
       "\n",
       "A matrix: 4 × 1 of type dbl\n",
       "\n",
       "| llik_pi.smoke.hat_pi.nonsmoke.hat | -2.600694e+02 |\n",
       "| llik_pi.common.hat | -2.750774e+02 |\n",
       "| w |  3.001603e+01 |\n",
       "| p.value |  4.284888e-08 |\n",
       "\n"
      ],
      "text/plain": [
       "                                  [,1]         \n",
       "llik_pi.smoke.hat_pi.nonsmoke.hat -2.600694e+02\n",
       "llik_pi.common.hat                -2.750774e+02\n",
       "w                                  3.001603e+01\n",
       "p.value                            4.284888e-08"
      ]
     },
     "metadata": {},
     "output_type": "display_data"
    }
   ],
   "source": [
    "res <- oral_ca %>%\n",
    "    summarise(llik_pi.smoke.hat_pi.nonsmoke.hat =\n",
    "        sum(dbinom(ccstatus[cigs.d == \"Smokers\"], 1, probs$pi.smoke.hat, log = TRUE)) +\n",
    "        sum(dbinom(ccstatus[cigs.d == \"Non-smokers\"], 1, probs$pi.nonsmoke.hat, log = TRUE)),\n",
    "    llik_pi.common.hat = sum(dbinom(ccstatus, 1, probs$pi.common.hat, log = TRUE)),\n",
    "    w = 2 * (llik_pi.smoke.hat_pi.nonsmoke.hat - llik_pi.common.hat),\n",
    "    p.value = 1 - pchisq(w, df = 1))\n",
    "t(res)\n"
   ]
  },
  {
   "cell_type": "markdown",
   "metadata": {},
   "source": [
    "## Linear logistic model\n",
    "\n",
    "### Dichotomized variable\n",
    "\n",
    "Here we will fit a linear logistic model with cigarettes as a dichotomized variable. To fit a linear logistics model, we use the `glm` function, and the results are shown below. As the coefficient of cigs is positive and significant at less than 0.1 percent significance level, being a smoker seems to increase the risk of oral cancer. Specifically, the increase in log-odds from smoking is approximately 1.39. This corresponds to an increase in odds by the exponential of the log-odds, which is approximately 4.028. We can also see this by the calculation below. Furthermore, the intercept coefficient is the log-odds of cancer for the reference group of not being a smoker."
   ]
  },
  {
   "cell_type": "code",
   "execution_count": 12,
   "metadata": {},
   "outputs": [
    {
     "data": {
      "text/plain": [
       "\n",
       "Call:\n",
       "glm(formula = ccstatus ~ cigs.d, family = \"binomial\", data = oral_ca)\n",
       "\n",
       "Deviance Residuals: \n",
       "   Min      1Q  Median      3Q     Max  \n",
       "-1.285  -1.285  -0.744   1.073   1.685  \n",
       "\n",
       "Coefficients:\n",
       "              Estimate Std. Error z value Pr(>|z|)    \n",
       "(Intercept)    -1.1431     0.2448  -4.669 3.03e-06 ***\n",
       "cigs.dSmokers   1.3927     0.2706   5.147 2.65e-07 ***\n",
       "---\n",
       "Signif. codes:  0 '***' 0.001 '**' 0.01 '*' 0.05 '.' 0.1 ' ' 1\n",
       "\n",
       "(Dispersion parameter for binomial family taken to be 1)\n",
       "\n",
       "    Null deviance: 550.15  on 396  degrees of freedom\n",
       "Residual deviance: 520.14  on 395  degrees of freedom\n",
       "AIC: 524.14\n",
       "\n",
       "Number of Fisher Scoring iterations: 4\n"
      ]
     },
     "metadata": {},
     "output_type": "display_data"
    }
   ],
   "source": [
    "mod.c <- glm(ccstatus ~ cigs.d,\n",
    "    family = \"binomial\",\n",
    "    data = oral_ca)\n",
    "summary(mod.c)"
   ]
  },
  {
   "cell_type": "code",
   "execution_count": 13,
   "metadata": {},
   "outputs": [
    {
     "data": {
      "text/html": [
       "<table>\n",
       "<caption>A matrix: 8 × 1 of type dbl</caption>\n",
       "<tbody>\n",
       "\t<tr><th scope=row>pi_smoke</th><td> 0.5620915</td></tr>\n",
       "\t<tr><th scope=row>pi_nonsmoke</th><td> 0.2417582</td></tr>\n",
       "\t<tr><th scope=row>odds_smoke</th><td> 1.2835821</td></tr>\n",
       "\t<tr><th scope=row>odds_nonsmoke</th><td> 0.3188406</td></tr>\n",
       "\t<tr><th scope=row>log_odds_smoke</th><td> 0.2496547</td></tr>\n",
       "\t<tr><th scope=row>log_odds_nonsmoke</th><td>-1.1430641</td></tr>\n",
       "\t<tr><th scope=row>diff_log_odds</th><td> 1.3927187</td></tr>\n",
       "\t<tr><th scope=row>diff_odds</th><td> 4.0257802</td></tr>\n",
       "</tbody>\n",
       "</table>\n"
      ],
      "text/latex": [
       "A matrix: 8 × 1 of type dbl\n",
       "\\begin{tabular}{r|l}\n",
       "\tpi\\_smoke &  0.5620915\\\\\n",
       "\tpi\\_nonsmoke &  0.2417582\\\\\n",
       "\todds\\_smoke &  1.2835821\\\\\n",
       "\todds\\_nonsmoke &  0.3188406\\\\\n",
       "\tlog\\_odds\\_smoke &  0.2496547\\\\\n",
       "\tlog\\_odds\\_nonsmoke & -1.1430641\\\\\n",
       "\tdiff\\_log\\_odds &  1.3927187\\\\\n",
       "\tdiff\\_odds &  4.0257802\\\\\n",
       "\\end{tabular}\n"
      ],
      "text/markdown": [
       "\n",
       "A matrix: 8 × 1 of type dbl\n",
       "\n",
       "| pi_smoke |  0.5620915 |\n",
       "| pi_nonsmoke |  0.2417582 |\n",
       "| odds_smoke |  1.2835821 |\n",
       "| odds_nonsmoke |  0.3188406 |\n",
       "| log_odds_smoke |  0.2496547 |\n",
       "| log_odds_nonsmoke | -1.1430641 |\n",
       "| diff_log_odds |  1.3927187 |\n",
       "| diff_odds |  4.0257802 |\n",
       "\n"
      ],
      "text/plain": [
       "                  [,1]      \n",
       "pi_smoke           0.5620915\n",
       "pi_nonsmoke        0.2417582\n",
       "odds_smoke         1.2835821\n",
       "odds_nonsmoke      0.3188406\n",
       "log_odds_smoke     0.2496547\n",
       "log_odds_nonsmoke -1.1430641\n",
       "diff_log_odds      1.3927187\n",
       "diff_odds          4.0257802"
      ]
     },
     "metadata": {},
     "output_type": "display_data"
    }
   ],
   "source": [
    "beta <- mod.c$coefficients\n",
    "\n",
    "pi_values <- data.frame(pi_smoke = exp(beta[1] + beta[2]) / (1 + exp(beta[1] + beta[2])),\n",
    "    pi_nonsmoke = exp(beta[1]) / (1 + exp(beta[1])))\n",
    "\n",
    "log_odds <- pi_values %>%\n",
    "    mutate(odds_smoke = pi_smoke / (1 - pi_smoke),\n",
    "        odds_nonsmoke = pi_nonsmoke / (1 - pi_nonsmoke),\n",
    "        log_odds_smoke = log(odds_smoke),\n",
    "        log_odds_nonsmoke = log(odds_nonsmoke),\n",
    "        diff_log_odds = log_odds_smoke - log_odds_nonsmoke,\n",
    "        diff_odds = exp(diff_log_odds))\n",
    "t(log_odds)"
   ]
  },
  {
   "cell_type": "markdown",
   "metadata": {},
   "source": [
    "### Continuous variable\n",
    "\n",
    "Instead of using a dichotomized variable for cigs, we now use the continuous variable in the model. The results are shown below. The coefficient of cigs of approximately 0.054 is now the expected change (increase) in log-odds from one additional cigarette smoked per day. Although they are both related to the odds for non-smokers, the coefficient of the intercept changes with respect to pt. (c) because cigs is now a continuous variable.\n"
   ]
  },
  {
   "cell_type": "code",
   "execution_count": 14,
   "metadata": {},
   "outputs": [
    {
     "data": {
      "text/plain": [
       "\n",
       "Call:\n",
       "glm(formula = ccstatus ~ cigs, family = \"binomial\", data = oral_ca)\n",
       "\n",
       "Deviance Residuals: \n",
       "    Min       1Q   Median       3Q      Max  \n",
       "-2.1923  -1.0237  -0.8228   1.1088   1.5796  \n",
       "\n",
       "Coefficients:\n",
       "             Estimate Std. Error z value Pr(>|z|)    \n",
       "(Intercept) -0.909057   0.171766  -5.292 1.21e-07 ***\n",
       "cigs         0.053624   0.008614   6.225 4.81e-10 ***\n",
       "---\n",
       "Signif. codes:  0 '***' 0.001 '**' 0.01 '*' 0.05 '.' 0.1 ' ' 1\n",
       "\n",
       "(Dispersion parameter for binomial family taken to be 1)\n",
       "\n",
       "    Null deviance: 550.15  on 396  degrees of freedom\n",
       "Residual deviance: 504.39  on 395  degrees of freedom\n",
       "AIC: 508.39\n",
       "\n",
       "Number of Fisher Scoring iterations: 4\n"
      ]
     },
     "metadata": {},
     "output_type": "display_data"
    }
   ],
   "source": [
    "mod.d <- glm(ccstatus ~ cigs,\n",
    "    family = \"binomial\",\n",
    "    data = oral_ca)\n",
    "summary(mod.d)"
   ]
  },
  {
   "cell_type": "markdown",
   "metadata": {},
   "source": [
    "### All explanatory variables\n",
    "\n",
    "We now include the other three variables (drinks, age and sex) in the model as well, and the results are shown below. Of the three variables, drinks and sex are significant at 5 percent significance level or less, and both have a positive correlation with the risk of oral cancer. The coefficient of the\n",
    "variable age is also positive, but it is not significantly different from zero. Furthermore, we observe that the increase in the log-odds for one more cigarette smoked per day now is 0.035, which is a lower value than in pt. (d) where it was 0.054. The reason for this is that in pt. (d), the model\n",
    "suffered from omitted variable bias. That is, one or more relevant variables correlating both with ccstatus and with cigs were left out of the model, resulting in the coefficient of cigs being estimated to be too high. Finally, we can notice that AIC is 453.8.\n",
    "\n"
   ]
  },
  {
   "cell_type": "code",
   "execution_count": 15,
   "metadata": {},
   "outputs": [
    {
     "data": {
      "text/plain": [
       "\n",
       "Call:\n",
       "glm(formula = ccstatus ~ cigs + drinks + age + sex, family = \"binomial\", \n",
       "    data = oral_ca)\n",
       "\n",
       "Deviance Residuals: \n",
       "    Min       1Q   Median       3Q      Max  \n",
       "-2.7185  -0.8589  -0.5832   0.9644   1.9776  \n",
       "\n",
       "Coefficients:\n",
       "             Estimate Std. Error z value Pr(>|z|)    \n",
       "(Intercept) -1.966071   0.620756  -3.167  0.00154 ** \n",
       "cigs         0.035480   0.009571   3.707  0.00021 ***\n",
       "drinks       0.029623   0.004643   6.380 1.77e-10 ***\n",
       "age          0.006529   0.009960   0.656  0.51213    \n",
       "sex          0.594499   0.272752   2.180  0.02928 *  \n",
       "---\n",
       "Signif. codes:  0 '***' 0.001 '**' 0.01 '*' 0.05 '.' 0.1 ' ' 1\n",
       "\n",
       "(Dispersion parameter for binomial family taken to be 1)\n",
       "\n",
       "    Null deviance: 550.15  on 396  degrees of freedom\n",
       "Residual deviance: 443.84  on 392  degrees of freedom\n",
       "AIC: 453.84\n",
       "\n",
       "Number of Fisher Scoring iterations: 5\n"
      ]
     },
     "metadata": {},
     "output_type": "display_data"
    }
   ],
   "source": [
    "mod.e <- glm(ccstatus ~ cigs + drinks + age + sex,\n",
    "    family = \"binomial\",\n",
    "    data = oral_ca)\n",
    "summary(mod.e)"
   ]
  },
  {
   "cell_type": "markdown",
   "metadata": {},
   "source": [
    "### Excluding age \n",
    "\n",
    "The coefficient of age has a positive value, but it is not statistically significant at 5 percent level, thus we do not reject the null hypothesis that the coefficient is zero. Hence, it does not seem to be the case that older people risk more, controlling for the other variables (cigs, drinks and sex). We now fit a new model excluding age, and the results are shown below. Specifically, the coefficients of cigs, drinks and sex are more or less the same as in pt. (e), and AIC is slightly improved to 452.3. As the model without age is simpler than the model including age, and also improves AIC, I would\n",
    "prefer this simpler model."
   ]
  },
  {
   "cell_type": "code",
   "execution_count": 16,
   "metadata": {},
   "outputs": [
    {
     "data": {
      "text/plain": [
       "\n",
       "Call:\n",
       "glm(formula = ccstatus ~ cigs + drinks + sex, family = \"binomial\", \n",
       "    data = oral_ca)\n",
       "\n",
       "Deviance Residuals: \n",
       "    Min       1Q   Median       3Q      Max  \n",
       "-2.6943  -0.8596  -0.6084   0.9607   1.8857  \n",
       "\n",
       "Coefficients:\n",
       "             Estimate Std. Error z value Pr(>|z|)    \n",
       "(Intercept) -1.592919   0.238787  -6.671 2.54e-11 ***\n",
       "cigs         0.035536   0.009565   3.715 0.000203 ***\n",
       "drinks       0.029498   0.004638   6.360 2.01e-10 ***\n",
       "sex          0.582183   0.271756   2.142 0.032169 *  \n",
       "---\n",
       "Signif. codes:  0 '***' 0.001 '**' 0.01 '*' 0.05 '.' 0.1 ' ' 1\n",
       "\n",
       "(Dispersion parameter for binomial family taken to be 1)\n",
       "\n",
       "    Null deviance: 550.15  on 396  degrees of freedom\n",
       "Residual deviance: 444.27  on 393  degrees of freedom\n",
       "AIC: 452.27\n",
       "\n",
       "Number of Fisher Scoring iterations: 5\n"
      ]
     },
     "metadata": {},
     "output_type": "display_data"
    }
   ],
   "source": [
    "mod.f <- glm(ccstatus ~ cigs + drinks + sex,\n",
    "    family = \"binomial\",\n",
    "    data = oral_ca)\n",
    "summary(mod.f)"
   ]
  },
  {
   "cell_type": "markdown",
   "metadata": {},
   "source": [
    "### Quadratic term for drinks\n",
    "\n",
    "We still exclude age and instead include a polynomial of degree 2 to model the effect of drinks, where the results are shown below. The coefficients of all variables are statistically significant at a 5 percent significance level, and AIC is further improved to 447.6, compared to 452.3. Hence, including a polynomial of degree 2 appears to improve the model"
   ]
  },
  {
   "cell_type": "code",
   "execution_count": 17,
   "metadata": {},
   "outputs": [
    {
     "data": {
      "text/plain": [
       "\n",
       "Call:\n",
       "glm(formula = ccstatus ~ cigs + drinks + I(drinks^2) + sex, family = \"binomial\", \n",
       "    data = oral_ca)\n",
       "\n",
       "Deviance Residuals: \n",
       "    Min       1Q   Median       3Q      Max  \n",
       "-2.2192  -0.8379  -0.5405   0.8756   1.9980  \n",
       "\n",
       "Coefficients:\n",
       "              Estimate Std. Error z value Pr(>|z|)    \n",
       "(Intercept) -1.850e+00  2.667e-01  -6.936 4.03e-12 ***\n",
       "cigs         3.301e-02  9.642e-03   3.424 0.000618 ***\n",
       "drinks       5.362e-02  1.052e-02   5.099 3.42e-07 ***\n",
       "I(drinks^2) -2.295e-04  8.419e-05  -2.726 0.006405 ** \n",
       "sex          7.256e-01  2.854e-01   2.542 0.011007 *  \n",
       "---\n",
       "Signif. codes:  0 '***' 0.001 '**' 0.01 '*' 0.05 '.' 0.1 ' ' 1\n",
       "\n",
       "(Dispersion parameter for binomial family taken to be 1)\n",
       "\n",
       "    Null deviance: 550.15  on 396  degrees of freedom\n",
       "Residual deviance: 437.62  on 392  degrees of freedom\n",
       "AIC: 447.62\n",
       "\n",
       "Number of Fisher Scoring iterations: 4\n"
      ]
     },
     "metadata": {},
     "output_type": "display_data"
    }
   ],
   "source": [
    "mod.g <- glm(ccstatus ~ cigs + drinks + I(drinks^2) + sex,\n",
    "    family = \"binomial\",\n",
    "    data = oral_ca)\n",
    "summary(mod.g)\n"
   ]
  },
  {
   "cell_type": "markdown",
   "metadata": {},
   "source": [
    "### Quadratic term for cigarettes\n",
    "\n",
    "If we instead include a quadratic term for cigs, we get the results shown below. It appears that including a quadratic term for cigs does not improve the model as the coefficient of cigs$^2$ is not significant and AIC is increased to 453.6."
   ]
  },
  {
   "cell_type": "code",
   "execution_count": 18,
   "metadata": {},
   "outputs": [
    {
     "data": {
      "text/plain": [
       "\n",
       "Call:\n",
       "glm(formula = ccstatus ~ cigs + I(cigs^2) + drinks + sex, family = \"binomial\", \n",
       "    data = oral_ca)\n",
       "\n",
       "Deviance Residuals: \n",
       "    Min       1Q   Median       3Q      Max  \n",
       "-2.6870  -0.8764  -0.5808   0.9695   1.9303  \n",
       "\n",
       "Coefficients:\n",
       "              Estimate Std. Error z value Pr(>|z|)    \n",
       "(Intercept) -1.6943120  0.2697349  -6.281 3.36e-10 ***\n",
       "cigs         0.0541177  0.0238775   2.266   0.0234 *  \n",
       "I(cigs^2)   -0.0004485  0.0005225  -0.858   0.3907    \n",
       "drinks       0.0289791  0.0046347   6.253 4.04e-10 ***\n",
       "sex          0.6019008  0.2742844   2.194   0.0282 *  \n",
       "---\n",
       "Signif. codes:  0 '***' 0.001 '**' 0.01 '*' 0.05 '.' 0.1 ' ' 1\n",
       "\n",
       "(Dispersion parameter for binomial family taken to be 1)\n",
       "\n",
       "    Null deviance: 550.15  on 396  degrees of freedom\n",
       "Residual deviance: 443.55  on 392  degrees of freedom\n",
       "AIC: 453.55\n",
       "\n",
       "Number of Fisher Scoring iterations: 5\n"
      ]
     },
     "metadata": {},
     "output_type": "display_data"
    }
   ],
   "source": [
    "mod.h <- glm(ccstatus ~ cigs + I(cigs^2) + drinks + sex,\n",
    "    family = \"binomial\",\n",
    "    data = oral_ca)\n",
    "summary(mod.h)\n"
   ]
  },
  {
   "cell_type": "markdown",
   "metadata": {},
   "source": [
    "### Cubic terms\n",
    "\n",
    "Finally, we can build models including a cubic term for drinks and cigs, respectively, to see if that improves the fit. However, as the results below show, neither models appear to be an improvement compared to the simpler ones, as the coefficients of the second and third order polynomials are not statistically significant in any of the models. Also, AIC is worse in both models compared to the AIC of the model in pt. (g). Hence, the best model seems to be the one with quadratic effect for drinks.\n",
    "\n",
    "##### Drinks\n"
   ]
  },
  {
   "cell_type": "code",
   "execution_count": 19,
   "metadata": {},
   "outputs": [
    {
     "data": {
      "text/plain": [
       "\n",
       "Call:\n",
       "glm(formula = ccstatus ~ cigs + drinks + I(drinks^2) + I(drinks^3) + \n",
       "    sex, family = \"binomial\", data = oral_ca)\n",
       "\n",
       "Deviance Residuals: \n",
       "    Min       1Q   Median       3Q      Max  \n",
       "-2.1993  -0.8382  -0.5367   0.8703   2.0045  \n",
       "\n",
       "Coefficients:\n",
       "              Estimate Std. Error z value Pr(>|z|)    \n",
       "(Intercept) -1.865e+00  2.876e-01  -6.484 8.91e-11 ***\n",
       "cigs         3.294e-02  9.651e-03   3.413 0.000642 ***\n",
       "drinks       5.636e-02  2.197e-02   2.565 0.010323 *  \n",
       "I(drinks^2) -2.960e-04  4.748e-04  -0.623 0.532963    \n",
       "I(drinks^3)  3.540e-07  2.488e-06   0.142 0.886856    \n",
       "sex          7.320e-01  2.893e-01   2.530 0.011390 *  \n",
       "---\n",
       "Signif. codes:  0 '***' 0.001 '**' 0.01 '*' 0.05 '.' 0.1 ' ' 1\n",
       "\n",
       "(Dispersion parameter for binomial family taken to be 1)\n",
       "\n",
       "    Null deviance: 550.15  on 396  degrees of freedom\n",
       "Residual deviance: 437.60  on 391  degrees of freedom\n",
       "AIC: 449.6\n",
       "\n",
       "Number of Fisher Scoring iterations: 4\n"
      ]
     },
     "metadata": {},
     "output_type": "display_data"
    }
   ],
   "source": [
    "mod.i1 <- glm(ccstatus ~ cigs + drinks + I(drinks^2) + I(drinks^3) + sex,\n",
    "                family = \"binomial\",\n",
    "                data = oral_ca)\n",
    "summary(mod.i1)\n"
   ]
  },
  {
   "cell_type": "markdown",
   "metadata": {},
   "source": [
    "###### Cigarettes"
   ]
  },
  {
   "cell_type": "code",
   "execution_count": 20,
   "metadata": {},
   "outputs": [
    {
     "data": {
      "text/plain": [
       "\n",
       "Call:\n",
       "glm(formula = ccstatus ~ cigs + I(cigs^2) + I(cigs^3) + drinks + \n",
       "    sex, family = \"binomial\", data = oral_ca)\n",
       "\n",
       "Deviance Residuals: \n",
       "    Min       1Q   Median       3Q      Max  \n",
       "-2.6567  -0.8871  -0.5658   0.9740   1.9551  \n",
       "\n",
       "Coefficients:\n",
       "              Estimate Std. Error z value Pr(>|z|)    \n",
       "(Intercept) -1.751e+00  2.863e-01  -6.116 9.58e-10 ***\n",
       "cigs         7.879e-02  4.579e-02   1.721   0.0853 .  \n",
       "I(cigs^2)   -1.901e-03  2.361e-03  -0.805   0.4208    \n",
       "I(cigs^3)    2.011e-05  3.215e-05   0.626   0.5316    \n",
       "drinks       2.896e-02  4.643e-03   6.238 4.43e-10 ***\n",
       "sex          6.144e-01  2.752e-01   2.232   0.0256 *  \n",
       "---\n",
       "Signif. codes:  0 '***' 0.001 '**' 0.01 '*' 0.05 '.' 0.1 ' ' 1\n",
       "\n",
       "(Dispersion parameter for binomial family taken to be 1)\n",
       "\n",
       "    Null deviance: 550.15  on 396  degrees of freedom\n",
       "Residual deviance: 443.15  on 391  degrees of freedom\n",
       "AIC: 455.15\n",
       "\n",
       "Number of Fisher Scoring iterations: 5\n"
      ]
     },
     "metadata": {},
     "output_type": "display_data"
    }
   ],
   "source": [
    "mod.i2 <- glm(ccstatus ~ cigs + I(cigs^2) + I(cigs^3) + drinks + sex,\n",
    "                family = \"binomial\",\n",
    "                data = oral_ca)\n",
    "summary(mod.i2)\n"
   ]
  },
  {
   "cell_type": "markdown",
   "metadata": {},
   "source": [
    "## Overview \n",
    "\n",
    "Finally, we examine which model is the best for prediction by splitting the data into a training set and a test set, where we use 3/4 of the data for training and 1/4 for testing. To ensure that results can be repeated, we use set.seed. However, it should be noticed that the computed errors of the training and test data for the different models will depend on the split into training and test. If the data were split using a different set.seed value, the results may change."
   ]
  },
  {
   "cell_type": "code",
   "execution_count": 24,
   "metadata": {},
   "outputs": [
    {
     "data": {
      "image/png": "[encoded data removed]",
      "text/plain": [
       "Plot with title \"MSE of train sets on models\""
      ]
     },
     "metadata": {
      "image/png": {
       "height": 420,
       "width": 420
      },
      "text/plain": {
       "height": 420,
       "width": 420
      }
     },
     "output_type": "display_data"
    },
    {
     "data": {
      "image/png": "[encoded data removed]",
      "text/plain": [
       "Plot with title \"MSE of test sets on models\""
      ]
     },
     "metadata": {
      "image/png": {
       "height": 420,
       "width": 420
      },
      "text/plain": {
       "height": 420,
       "width": 420
      }
     },
     "output_type": "display_data"
    }
   ],
   "source": [
    " set.seed(2468)\n",
    "######\n",
    "# Break data into train/test sets and fit pervious models\n",
    "## 75% of the sample size\n",
    "train.size <- floor(0.75 * nrow(oral_ca))\n",
    "\n",
    "## set the seed to make your partition reproducible\n",
    "set.seed(13)  # Will need to delete/update if I'm trying to run this simulation multiple times\n",
    "train.indexes <- sample(seq_len(nrow(oral_ca)), size = train.size)\n",
    "\n",
    "# Training/testing sets \n",
    "oc.train <- oral_ca[train.indexes, ]  # set of indexes from sample()\n",
    "oc.test  <- oral_ca[-train.indexes, ] # rest of indexes\n",
    "\n",
    "MSE.oral.train = NULL\n",
    "MSE.oral.test = NULL\n",
    "\n",
    "# fit to models described in previous parts\n",
    "model.cig.train <- glm(ccstatus ~ cigs, data=oc.train, family = \"binomial\"(link=\"logit\"))\n",
    "pred <- predict(model.cig.train)\n",
    "MSE.oral.train[1] = sum(((oc.train$ccstatus - pred)^2 ) / length(oc.train$ccstatus))\n",
    "pred <- predict(model.cig.train, newdata = oc.test, type = \"response\")\n",
    "MSE.oral.test[1] = sum(((oc.test$ccstatus - pred)^2 ) / length(oc.test$ccstatus))\n",
    "\n",
    "model.all.train <- glm(ccstatus ~ cigs + drinks + sex + age, data=oc.train, family = \"binomial\"(link=\"logit\"))\n",
    "pred <- predict(model.all.train)\n",
    "MSE.oral.train[2] = sum(((oc.train$ccstatus - pred)^2 ) / length(oc.train$ccstatus))\n",
    "pred <- predict(model.all.train, newdata = oc.test, type = \"response\")\n",
    "MSE.oral.test[2] = sum(((oc.test$ccstatus - pred)^2 ) / length(oc.test$ccstatus))\n",
    "\n",
    "model.noage.train <- glm(ccstatus ~ cigs + drinks + sex, data=oc.train, family = \"binomial\"(link=\"logit\"))\n",
    "pred <- predict(model.noage.train)\n",
    "MSE.oral.train[3] = sum(((oc.train$ccstatus - pred)^2 ) / length(oc.train$ccstatus))\n",
    "pred <- predict(model.noage.train, newdata = oc.test, type = \"response\")\n",
    "MSE.oral.test[3] = sum(((oc.test$ccstatus - pred)^2 ) / length(oc.test$ccstatus))\n",
    "\n",
    "model.cig2.train <- glm(ccstatus ~ cigs + I(cigs^2) + drinks + sex, data=oc.train, family = \"binomial\"(link=\"logit\"))\n",
    "pred <- predict(model.cig2.train)\n",
    "MSE.oral.train[4] = sum(((oc.train$ccstatus - pred)^2 ) / length(oc.train$ccstatus))\n",
    "pred <- predict(model.cig2.train, newdata = oc.test, type = \"response\")\n",
    "MSE.oral.test[4] = sum(((oc.test$ccstatus - pred)^2 ) / length(oc.test$ccstatus))\n",
    "\n",
    "model.drink2.train <- glm(ccstatus ~ cigs + drinks + I(drinks^2) + sex, data=oc.train, family = \"binomial\"(link=\"logit\"))\n",
    "pred <- predict(model.drink2.train)\n",
    "MSE.oral.train[5] = sum(((oc.train$ccstatus - pred)^2 ) / length(oc.train$ccstatus))\n",
    "pred <- predict(model.drink2.train, newdata = oc.test, type = \"response\")\n",
    "MSE.oral.test[5] = sum(((oc.test$ccstatus - pred)^2 ) / length(oc.test$ccstatus))\n",
    "\n",
    "model.drink3.train <- glm(ccstatus ~ cigs + drinks + I(drinks^3) + sex, data=oc.train, family = \"binomial\"(link=\"logit\"))\n",
    "pred <- predict(model.drink3.train)\n",
    "MSE.oral.train[6] = sum(((oc.train$ccstatus - pred)^2 ) / length(oc.train$ccstatus))\n",
    "pred <- predict(model.drink3.train, newdata = oc.test, type = \"response\")\n",
    "MSE.oral.test[6] = sum(((oc.test$ccstatus - pred)^2 ) / length(oc.test$ccstatus))\n",
    "\n",
    "model.drink23.train <- glm(ccstatus ~ cigs + drinks + I(drinks^2) + I(drinks^3) + sex, data=oc.train, family = \"binomial\"(link=\"logit\"))\n",
    "pred <- predict(model.drink23.train)\n",
    "MSE.oral.train[7] = sum(((oc.train$ccstatus - pred)^2 ) / length(oc.train$ccstatus))\n",
    "pred <- predict(model.drink3.train, newdata = oc.test, type = \"response\")\n",
    "MSE.oral.test[7] = sum(((oc.test$ccstatus - pred)^2 ) / length(oc.test$ccstatus))\n",
    "\n",
    "\n",
    "# plot MSEs for different models \n",
    "\n",
    "\n",
    "plot(1:7, MSE.oral.train, type='b', col=2, xlab=\"Model\", main=\"MSE of train sets on models\")\n",
    "legend(\"bottomright\", legend=c(\"1 = cigs\", \"2 = all\", \"3 = no age\", \"4 = cigs^2\", \"5 = drinks^2\", \"6 = drinks^3\", \"7=drinks^2+drinks^2\"))\n",
    "\n",
    "\n",
    "plot(1:7, MSE.oral.test, type='b', col=2, xlab=\"Model\", main=\"MSE of test sets on models\")\n",
    "legend(\"topright\", legend=c(\"1 = cigs\", \"2 = all\", \"3 = no age\", \"4 = cigs^2\", \"5 = drinks^2\", \"6 = drinks^3\", \"7=drinks^2+drinks^2\"))\n",
    "\n",
    "\n",
    "\n"
   ]
  },
  {
   "cell_type": "code",
   "execution_count": null,
   "metadata": {},
   "outputs": [],
   "source": []
  }
 ],
 "metadata": {
  "kernelspec": {
   "display_name": "R",
   "language": "R",
   "name": "ir"
  },
  "language_info": {
   "codemirror_mode": "r",
   "file_extension": ".r",
   "mimetype": "text/x-r-source",
   "name": "R",
   "pygments_lexer": "r",
   "version": "3.6.1"
  }
 },
 "nbformat": 4,
 "nbformat_minor": 2
}
