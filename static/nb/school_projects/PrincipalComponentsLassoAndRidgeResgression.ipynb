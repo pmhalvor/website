{
 "cells": [
  {
   "cell_type": "markdown",
   "metadata": {},
   "source": [
    "# Primary components, Lasso, Ridge Regression, and PCA  \n",
    "\n",
    "In this notebook, we will be looking at a data set containing 7128 gene expressions for 72 patients with leukaemia. There are two different leukaemia types included in the data set, and we want to see if there is a set of genes\n",
    "which can help distinguish between the two. Let's read in our data\n",
    "\n"
   ]
  },
  {
   "cell_type": "code",
   "execution_count": 5,
   "metadata": {},
   "outputs": [
    {
     "data": {
      "text/html": [
       "<table>\n",
       "<caption>A data.frame: 6 × 5</caption>\n",
       "<thead>\n",
       "\t<tr><th></th><th scope=col>ALL</th><th scope=col>ALL.1</th><th scope=col>ALL.2</th><th scope=col>ALL.3</th><th scope=col>ALL.4</th></tr>\n",
       "\t<tr><th></th><th scope=col>&lt;dbl&gt;</th><th scope=col>&lt;dbl&gt;</th><th scope=col>&lt;dbl&gt;</th><th scope=col>&lt;dbl&gt;</th><th scope=col>&lt;dbl&gt;</th></tr>\n",
       "</thead>\n",
       "<tbody>\n",
       "\t<tr><th scope=row>1</th><td>-1.5336217</td><td>-0.8676096</td><td>-0.4331719</td><td>-1.6719032</td><td>-1.1876894</td></tr>\n",
       "\t<tr><th scope=row>2</th><td>-1.2356729</td><td>-1.2755005</td><td>-1.1844922</td><td>-1.5964240</td><td>-1.3352557</td></tr>\n",
       "\t<tr><th scope=row>3</th><td>-0.3339829</td><td> 0.3759265</td><td>-0.4591960</td><td>-1.4225714</td><td>-0.7974929</td></tr>\n",
       "\t<tr><th scope=row>4</th><td> 0.4887021</td><td> 0.4440110</td><td> 0.4362635</td><td> 0.1933529</td><td> 0.2356315</td></tr>\n",
       "\t<tr><th scope=row>5</th><td>-1.3008933</td><td>-1.2296598</td><td>-1.3258824</td><td>-1.8183288</td><td>-1.3112060</td></tr>\n",
       "\t<tr><th scope=row>6</th><td>-1.6826682</td><td>-1.6420718</td><td>-1.4072639</td><td>-1.7444693</td><td>-1.6543805</td></tr>\n",
       "</tbody>\n",
       "</table>\n"
      ],
      "text/latex": [
       "A data.frame: 6 × 5\n",
       "\\begin{tabular}{r|lllll}\n",
       "  & ALL & ALL.1 & ALL.2 & ALL.3 & ALL.4\\\\\n",
       "  & <dbl> & <dbl> & <dbl> & <dbl> & <dbl>\\\\\n",
       "\\hline\n",
       "\t1 & -1.5336217 & -0.8676096 & -0.4331719 & -1.6719032 & -1.1876894\\\\\n",
       "\t2 & -1.2356729 & -1.2755005 & -1.1844922 & -1.5964240 & -1.3352557\\\\\n",
       "\t3 & -0.3339829 &  0.3759265 & -0.4591960 & -1.4225714 & -0.7974929\\\\\n",
       "\t4 &  0.4887021 &  0.4440110 &  0.4362635 &  0.1933529 &  0.2356315\\\\\n",
       "\t5 & -1.3008933 & -1.2296598 & -1.3258824 & -1.8183288 & -1.3112060\\\\\n",
       "\t6 & -1.6826682 & -1.6420718 & -1.4072639 & -1.7444693 & -1.6543805\\\\\n",
       "\\end{tabular}\n"
      ],
      "text/markdown": [
       "\n",
       "A data.frame: 6 × 5\n",
       "\n",
       "| <!--/--> | ALL &lt;dbl&gt; | ALL.1 &lt;dbl&gt; | ALL.2 &lt;dbl&gt; | ALL.3 &lt;dbl&gt; | ALL.4 &lt;dbl&gt; |\n",
       "|---|---|---|---|---|---|\n",
       "| 1 | -1.5336217 | -0.8676096 | -0.4331719 | -1.6719032 | -1.1876894 |\n",
       "| 2 | -1.2356729 | -1.2755005 | -1.1844922 | -1.5964240 | -1.3352557 |\n",
       "| 3 | -0.3339829 |  0.3759265 | -0.4591960 | -1.4225714 | -0.7974929 |\n",
       "| 4 |  0.4887021 |  0.4440110 |  0.4362635 |  0.1933529 |  0.2356315 |\n",
       "| 5 | -1.3008933 | -1.2296598 | -1.3258824 | -1.8183288 | -1.3112060 |\n",
       "| 6 | -1.6826682 | -1.6420718 | -1.4072639 | -1.7444693 | -1.6543805 |\n",
       "\n"
      ],
      "text/plain": [
       "  ALL        ALL.1      ALL.2      ALL.3      ALL.4     \n",
       "1 -1.5336217 -0.8676096 -0.4331719 -1.6719032 -1.1876894\n",
       "2 -1.2356729 -1.2755005 -1.1844922 -1.5964240 -1.3352557\n",
       "3 -0.3339829  0.3759265 -0.4591960 -1.4225714 -0.7974929\n",
       "4  0.4887021  0.4440110  0.4362635  0.1933529  0.2356315\n",
       "5 -1.3008933 -1.2296598 -1.3258824 -1.8183288 -1.3112060\n",
       "6 -1.6826682 -1.6420718 -1.4072639 -1.7444693 -1.6543805"
      ]
     },
     "metadata": {},
     "output_type": "display_data"
    }
   ],
   "source": [
    "## data.leuk = read.csv(\"http://web.stanford.edu/~hastie/CASI_files/DATA/leukemia_big.csv\") # direct url for up to date data\n",
    "data.leuk = read.csv(\"leukemia_big.csv\", header=TRUE)  # local file for quicker loading \n",
    "head(data.leuk[1:5])\n",
    "\n",
    "# Transpose\n",
    "X <- t(data.leuk)"
   ]
  },
  {
   "cell_type": "markdown",
   "metadata": {},
   "source": [
    "We needed to transpose our data so that the 7128 genes become our columns, with the 72 patients as the rows. \n"
   ]
  },
  {
   "cell_type": "markdown",
   "metadata": {},
   "source": [
    "We will start our analysis by finding the first two primary components of the data set. Then we will fit a model using the Lasso method. Then another using ridge regression. Then a fourth model using PCA, where we will need to decide how many components to include in our model. \n",
    "\n",
    "\n",
    "\n",
    "## Principal components\n",
    "\n",
    "Let's find the first two principal components to see if this\n",
    "gets us closer to our goal of grouping the patients by the different\n",
    "cancer types."
   ]
  },
  {
   "cell_type": "code",
   "execution_count": 7,
   "metadata": {},
   "outputs": [
    {
     "data": {
      "image/png": "[encoded data removed]",
      "text/plain": [
       "Plot with title \"First two principal components\""
      ]
     },
     "metadata": {
      "image/png": {
       "height": 420,
       "width": 420
      },
      "text/plain": {
       "height": 420,
       "width": 420
      }
     },
     "output_type": "display_data"
    }
   ],
   "source": [
    "# Find PC\n",
    "pc <- prcomp(X, scale =TRUE, center = TRUE)\n",
    "# summary(pc)\n",
    "# pc.std <- prcomp(X.std, scale=TRUE, center=TRUE)\n",
    "# summary(pc.std) # This is here for comparison (in case it's needed later)\n",
    "\n",
    "\n",
    "# Seperating cancer types\n",
    "pc.all.1 <- pc$x[,1][grepl(\"ALL\", names(pc$x[,1]))]\n",
    "pc.all.2 <- pc$x[,2][grepl(\"ALL\", names(pc$x[,2]))]\n",
    "pc.aml.1 <- pc$x[,1][grepl(\"AML\", names(pc$x[,1]))]\n",
    "pc.aml.2 <- pc$x[,2][grepl(\"AML\", names(pc$x[,2]))]\n",
    "# There might be a better way to do this\n",
    "\n",
    "\n",
    "# Plotting data with colored labels\n",
    "plot(pc$x[,1], pc$x[,2], xlab='PC1', ylab='PC2', main='First two principal components')\n",
    "points(pc.all.1, pc.all.2, col='red')\n",
    "points(pc.aml.1, pc.aml.2, col='blue')\n",
    "legend('topright', cex=0.7, col=c('red', 'blue'), pch=1, legend=c('ALL', 'AML'),)\n"
   ]
  },
  {
   "cell_type": "markdown",
   "metadata": {},
   "source": [
    "The cluster of blue data points in the top left of the plot shows that the patients with AML have genetic expressions with variations close to others with the same cancer type. Further analysis of the data is needed to extract exactly which genes cause this correlation, since primary component analysis maps all of the variables onto these two axes."
   ]
  },
  {
   "cell_type": "markdown",
   "metadata": {},
   "source": [
    "## Lasso\n",
    "\n",
    "Now, by reading in some example response data, provided on the course homepage, we can try to fit a model using the lasso method. Lasso models contain a penalty parameter, $\\lambda$ , which helps decide how many relevant variables should be included in the model. As $\\lambda$ decreases, the number of variables included in the model increases. Since our data has 7128 covariates, it is useful to get rid of the unnecessary ones, as they more likely represent some random noise than variance in the data, even if that means losing some precision of our model. We can estimate $\\lambda$ with K-fold cross-validation. Specifically, we'll look at K=3, 10 and 72, the last one being otherwise called \"leave-one-out\"\n",
    "cross validation. "
   ]
  },
  {
   "cell_type": "code",
   "execution_count": 1,
   "metadata": {},
   "outputs": [
    {
     "data": {
      "text/plain": [
       "       X            V1          \n",
       " ALL    : 1   Min.   :-108.817  \n",
       " ALL.1  : 1   1st Qu.: -78.896  \n",
       " ALL.10 : 1   Median : -47.059  \n",
       " ALL.11 : 1   Mean   : -44.896  \n",
       " ALL.12 : 1   3rd Qu.:  -9.971  \n",
       " ALL.13 : 1   Max.   :  15.250  \n",
       " (Other):66                     "
      ]
     },
     "metadata": {},
     "output_type": "display_data"
    },
    {
     "name": "stderr",
     "output_type": "stream",
     "text": [
      "Warning message:\n",
      "\"package 'glmnet' was built under R version 3.6.3\"\n",
      "Loading required package: Matrix\n",
      "\n",
      "Loaded glmnet 3.0-2\n",
      "\n",
      "\n"
     ]
    },
    {
     "ename": "ERROR",
     "evalue": "Error in as.matrix(X): object 'X' not found\n",
     "output_type": "error",
     "traceback": [
      "Error in as.matrix(X): object 'X' not found\nTraceback:\n",
      "1. cv.glmnet(y = y.train, x = as.matrix(X), nfolds = 3, alpha = 1, \n .     standardize = TRUE)",
      "2. nrow(x)",
      "3. as.matrix(X)"
     ]
    }
   ],
   "source": [
    "options(warn=1)\n",
    "\n",
    "# 1b) #############\n",
    "set.seed(1234567)\n",
    "# Read response data\n",
    "response.train <- read.csv(\"response_train.csv\")\n",
    "summary(response.train)\n",
    "\n",
    "# Get only the values from response (not cancer types)\n",
    "y.train <- response.train[,2]\n",
    "\n",
    "\n",
    "# Find lambdas for lasso using 3-, 10-, and 72-fold cross validation \n",
    "library(glmnet)\n",
    "lambda.l.3 <- cv.glmnet(y = y.train, x = as.matrix(X), nfolds=3, alpha = 1, standardize = TRUE)\n",
    "lambda.l.10 <- cv.glmnet(y = y.train, x = as.matrix(X), nfolds=10, alpha = 1, standardize = TRUE)\n",
    "lambda.l.72 <- cv.glmnet(y = y.train, x = as.matrix(X), nfolds=72, alpha = 1, standardize = TRUE)\n",
    "\n",
    "\n",
    "# Look at results from lambdas \n",
    "lambda.l.3$lambda.min   # lambda = 1.5536\n",
    "lambda.l.10$lambda.min  # lambda = 0.3195\n",
    "lambda.l.72$lambda.min  # lambda = 0.3195\n"
   ]
  },
  {
   "cell_type": "markdown",
   "metadata": {},
   "source": [
    "_The warning that shows up here is due to our leave-one-out cross validation._\n"
   ]
  },
  {
   "cell_type": "markdown",
   "metadata": {},
   "source": [
    "It’s important to point out that if you do not set a seed before running this code, you can get different values for lambda.1.3 and lambda.1.10, since cv.glmnet() randomly splits your data into 3 and 10 groups. The 72-fold lambda will be the same no matter what the seed is, since each group will only have 1 variable in it. Our return lambda variables consist two parts; lambda.min and lambda.1se. For now, we are interested in the lambda that gives the lowest cross validation error, which is what lambda.min represents. \n",
    "\n",
    "I ran a for loop, checking multiple different seeds, to see how much\n",
    "the different lambdas vary according to how the data set is split. It\n",
    "turns out, the 3-fold-cv changed the most every iteration, ranging\n",
    "from almost equal to lambda.l.10 and lambda.l.72 to almost 5-6\n",
    "times them. This means that the $\\lambda$ found by 3-fold cross validation\n",
    "is not accurate enough to use. For most cases, the 10-fold-cv lambda\n",
    "is equal, or at least very close, to the leave-one-out lambda. Since a 10-\n",
    "fold calculation is much cheaper (takes less computing power) than\n",
    "a 72-fold-cv, I chose to use this lambda.l.10 as the \"optimal $\\lambda$\"."
   ]
  }
 ],
 "metadata": {
  "kernelspec": {
   "display_name": "R",
   "language": "R",
   "name": "ir"
  },
  "language_info": {
   "codemirror_mode": "r",
   "file_extension": ".r",
   "mimetype": "text/x-r-source",
   "name": "R",
   "pygments_lexer": "r",
   "version": "3.6.1"
  }
 },
 "nbformat": 4,
 "nbformat_minor": 2
}
