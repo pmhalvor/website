{
 "cells": [
  {
   "cell_type": "code",
   "execution_count": 3,
   "metadata": {},
   "outputs": [],
   "source": [
    "import worker.song_history as sh\n",
    "from worker.authorize import get_token"
   ]
  },
  {
   "cell_type": "code",
   "execution_count": 4,
   "metadata": {},
   "outputs": [
    {
     "name": "stdout",
     "output_type": "stream",
     "text": [
      "loaded from /home/pmhalvor/data/history.csv\n",
      "Max played at 2022-09-08T16:45:03.702Z\n"
     ]
    }
   ],
   "source": [
    "\n",
    "df, mdf = sh.load_df()"
   ]
  },
  {
   "cell_type": "code",
   "execution_count": 6,
   "metadata": {},
   "outputs": [
    {
     "data": {
      "text/html": [
       "<div>\n",
       "<style scoped>\n",
       "    .dataframe tbody tr th:only-of-type {\n",
       "        vertical-align: middle;\n",
       "    }\n",
       "\n",
       "    .dataframe tbody tr th {\n",
       "        vertical-align: top;\n",
       "    }\n",
       "\n",
       "    .dataframe thead th {\n",
       "        text-align: right;\n",
       "    }\n",
       "</style>\n",
       "<table border=\"1\" class=\"dataframe\">\n",
       "  <thead>\n",
       "    <tr style=\"text-align: right;\">\n",
       "      <th></th>\n",
       "      <th>played_at</th>\n",
       "      <th>id</th>\n",
       "      <th>artist</th>\n",
       "      <th>name</th>\n",
       "    </tr>\n",
       "  </thead>\n",
       "  <tbody>\n",
       "    <tr>\n",
       "      <th>0</th>\n",
       "      <td>2020-03-19T14:59:51.544Z</td>\n",
       "      <td>6r647IcY3VbHY7zEmtAAdS</td>\n",
       "      <td>Ratatat</td>\n",
       "      <td>Bob Gandhi</td>\n",
       "    </tr>\n",
       "    <tr>\n",
       "      <th>1</th>\n",
       "      <td>2020-03-19T15:02:35.733Z</td>\n",
       "      <td>4CKJlhPFfD4NphIHayTngd</td>\n",
       "      <td>SLIGHT</td>\n",
       "      <td>DREAMIN</td>\n",
       "    </tr>\n",
       "    <tr>\n",
       "      <th>2</th>\n",
       "      <td>2020-03-19T15:07:16.071Z</td>\n",
       "      <td>2CQWQkDK3fLiaxXvrMclMA</td>\n",
       "      <td>The Avalanches</td>\n",
       "      <td>Frontier Psychiatrist</td>\n",
       "    </tr>\n",
       "    <tr>\n",
       "      <th>3</th>\n",
       "      <td>2020-03-19T15:10:38.374Z</td>\n",
       "      <td>3ZbvZvQXAdc2YlLfJlNR0C</td>\n",
       "      <td>Admiral P</td>\n",
       "      <td>Gjï¿½r sï¿½ godt du kan</td>\n",
       "    </tr>\n",
       "    <tr>\n",
       "      <th>4</th>\n",
       "      <td>2020-03-19T15:13:38.896Z</td>\n",
       "      <td>39qc0OEY3CQWfTQzeghYaY</td>\n",
       "      <td>Admiral P</td>\n",
       "      <td>Nydelig</td>\n",
       "    </tr>\n",
       "  </tbody>\n",
       "</table>\n",
       "</div>"
      ],
      "text/plain": [
       "                  played_at                      id          artist  \\\n",
       "0  2020-03-19T14:59:51.544Z  6r647IcY3VbHY7zEmtAAdS         Ratatat   \n",
       "1  2020-03-19T15:02:35.733Z  4CKJlhPFfD4NphIHayTngd          SLIGHT   \n",
       "2  2020-03-19T15:07:16.071Z  2CQWQkDK3fLiaxXvrMclMA  The Avalanches   \n",
       "3  2020-03-19T15:10:38.374Z  3ZbvZvQXAdc2YlLfJlNR0C       Admiral P   \n",
       "4  2020-03-19T15:13:38.896Z  39qc0OEY3CQWfTQzeghYaY       Admiral P   \n",
       "\n",
       "                      name  \n",
       "0               Bob Gandhi  \n",
       "1                  DREAMIN  \n",
       "2    Frontier Psychiatrist  \n",
       "3  Gjï¿½r sï¿½ godt du kan  \n",
       "4                  Nydelig  "
      ]
     },
     "execution_count": 6,
     "metadata": {},
     "output_type": "execute_result"
    }
   ],
   "source": [
    "df.head()"
   ]
  },
  {
   "cell_type": "code",
   "execution_count": 5,
   "metadata": {},
   "outputs": [
    {
     "data": {
      "text/html": [
       "<div>\n",
       "<style scoped>\n",
       "    .dataframe tbody tr th:only-of-type {\n",
       "        vertical-align: middle;\n",
       "    }\n",
       "\n",
       "    .dataframe tbody tr th {\n",
       "        vertical-align: top;\n",
       "    }\n",
       "\n",
       "    .dataframe thead th {\n",
       "        text-align: right;\n",
       "    }\n",
       "</style>\n",
       "<table border=\"1\" class=\"dataframe\">\n",
       "  <thead>\n",
       "    <tr style=\"text-align: right;\">\n",
       "      <th></th>\n",
       "      <th>played_at</th>\n",
       "      <th>id</th>\n",
       "      <th>artist</th>\n",
       "      <th>name</th>\n",
       "    </tr>\n",
       "  </thead>\n",
       "  <tbody>\n",
       "    <tr>\n",
       "      <th>36465</th>\n",
       "      <td>2022-09-08T12:54:47.423Z</td>\n",
       "      <td>0qzXTP15Crehv55cbbbwqS</td>\n",
       "      <td>Carl Orff</td>\n",
       "      <td>Orff: Carmina Burana Introduction Fortuna Impe...</td>\n",
       "    </tr>\n",
       "    <tr>\n",
       "      <th>36466</th>\n",
       "      <td>2022-09-08T12:59:29.046Z</td>\n",
       "      <td>5dhYEVFWYHp2OqgTiI2S3R</td>\n",
       "      <td>Edvard Grieg</td>\n",
       "      <td>Holberg Suite Op. 40: 1. Präludium (Allegro vi...</td>\n",
       "    </tr>\n",
       "    <tr>\n",
       "      <th>36467</th>\n",
       "      <td>2022-09-08T13:03:50.299Z</td>\n",
       "      <td>6Gifhuvyk4uPDGSRrtw8Y6</td>\n",
       "      <td>Franz Schubert</td>\n",
       "      <td>Schwanengesang D. 957: Ständchen \"Leise flehen...</td>\n",
       "    </tr>\n",
       "    <tr>\n",
       "      <th>36468</th>\n",
       "      <td>2022-09-08T16:01:57.230Z</td>\n",
       "      <td>2S71Qshkct9aMo2PrenMa8</td>\n",
       "      <td>Franz Schubert</td>\n",
       "      <td>Arpeggione Sonata in A Minor D. 821: I. Allegr...</td>\n",
       "    </tr>\n",
       "    <tr>\n",
       "      <th>36469</th>\n",
       "      <td>2022-09-08T16:45:03.702Z</td>\n",
       "      <td>5H9S7RaxxSAgY77Mb0CSPz</td>\n",
       "      <td>Alan Walker</td>\n",
       "      <td>Time - Alan Walker Remix</td>\n",
       "    </tr>\n",
       "  </tbody>\n",
       "</table>\n",
       "</div>"
      ],
      "text/plain": [
       "                      played_at                      id          artist  \\\n",
       "36465  2022-09-08T12:54:47.423Z  0qzXTP15Crehv55cbbbwqS       Carl Orff   \n",
       "36466  2022-09-08T12:59:29.046Z  5dhYEVFWYHp2OqgTiI2S3R    Edvard Grieg   \n",
       "36467  2022-09-08T13:03:50.299Z  6Gifhuvyk4uPDGSRrtw8Y6  Franz Schubert   \n",
       "36468  2022-09-08T16:01:57.230Z  2S71Qshkct9aMo2PrenMa8  Franz Schubert   \n",
       "36469  2022-09-08T16:45:03.702Z  5H9S7RaxxSAgY77Mb0CSPz     Alan Walker   \n",
       "\n",
       "                                                    name  \n",
       "36465  Orff: Carmina Burana Introduction Fortuna Impe...  \n",
       "36466  Holberg Suite Op. 40: 1. Präludium (Allegro vi...  \n",
       "36467  Schwanengesang D. 957: Ständchen \"Leise flehen...  \n",
       "36468  Arpeggione Sonata in A Minor D. 821: I. Allegr...  \n",
       "36469                           Time - Alan Walker Remix  "
      ]
     },
     "execution_count": 5,
     "metadata": {},
     "output_type": "execute_result"
    }
   ],
   "source": [
    "df.tail()"
   ]
  },
  {
   "cell_type": "code",
   "execution_count": 7,
   "metadata": {},
   "outputs": [
    {
     "name": "stdout",
     "output_type": "stream",
     "text": [
      "Time difference: 3388\n"
     ]
    }
   ],
   "source": [
    "token = get_token()"
   ]
  },
  {
   "cell_type": "code",
   "execution_count": 8,
   "metadata": {},
   "outputs": [],
   "source": [
    "recents = sh.get_recents(token)"
   ]
  },
  {
   "cell_type": "code",
   "execution_count": 9,
   "metadata": {},
   "outputs": [
    {
     "name": "stdout",
     "output_type": "stream",
     "text": [
      "New entry added: {'played_at': '2022-09-09T10:40:02.322Z', 'id': '4BGvTMV2DIwIa4ixT37fnG', 'artist': 'Ryan Griffin', 'name': 'Salt Lime & Tequila'}.\n",
      "New entry added: {'played_at': '2022-09-09T10:43:02.402Z', 'id': '53DVsTZvB16BDP30XmfSef', 'artist': 'Watchhouse', 'name': 'Old Ties and Companions'}.\n",
      "New entry added: {'played_at': '2022-09-09T10:45:49.535Z', 'id': '19MkwMrRjO7773zpuGss1o', 'artist': 'Tyler Childers', 'name': 'Shake the Frost (Live)'}.\n",
      "New entry added: {'played_at': '2022-09-09T10:49:13.494Z', 'id': '3q3lSbfT5BnQlIvGwahgAD', 'artist': 'Luke Combs', 'name': 'The Great Divide'}.\n",
      "New entry added: {'played_at': '2022-09-09T10:54:58.476Z', 'id': '3Ozx6IrGdoQyAworJzvBDE', 'artist': 'Colter Wall', 'name': 'Sleeping on the Blacktop'}.\n",
      "New entry added: {'played_at': '2022-09-09T10:57:41.162Z', 'id': '2Dct3GykKZ58hpWRFfe2Qd', 'artist': 'Zach Bryan', 'name': 'Heading South'}.\n",
      "New entry added: {'played_at': '2022-09-09T11:00:23.447Z', 'id': '4lb3LoC5Xa5FbL9uB0n3R9', 'artist': 'Whiskey Myers', 'name': 'Bitch'}.\n",
      "New entry added: {'played_at': '2022-09-09T11:03:12.394Z', 'id': '0tIRswIxHkAXTF0cx2Eodb', 'artist': 'Vincent Neil Emerson', 'name': \"25 & Wastin' Time\"}.\n",
      "New entry added: {'played_at': '2022-09-09T11:06:20.549Z', 'id': '2whwQ5AcH84MhNIXoAYKdi', 'artist': 'Watchhouse', 'name': 'Cavalry'}.\n",
      "New entry added: {'played_at': '2022-09-09T11:09:50.496Z', 'id': '0fCwTrRNfoNk962ati8n2K', 'artist': 'Tyler Childers', 'name': \"All Your'n\"}.\n",
      "New entry added: {'played_at': '2022-09-09T11:12:12.434Z', 'id': '67ZuMlC2hS1G0kBuxjUzcC', 'artist': 'Colter Wall', 'name': 'Thirteen Silver Dollars'}.\n",
      "New entry added: {'played_at': '2022-09-09T11:15:15.645Z', 'id': '3Ozx6IrGdoQyAworJzvBDE', 'artist': 'Colter Wall', 'name': 'Sleeping on the Blacktop'}.\n",
      "New entry added: {'played_at': '2022-09-09T11:17:30.358Z', 'id': '1zLWKvegCtyjWaVWQFFX5W', 'artist': 'Colter Wall', 'name': 'Fraulein (feat. Tyler Childers)'}.\n",
      "New entry added: {'played_at': '2022-09-09T13:20:40.215Z', 'id': '2tgQaL85WoRfgEa4hFQgrE', 'artist': 'Tyler Childers', 'name': 'Feathered Indians'}.\n",
      "New entry added: {'played_at': '2022-09-09T13:23:26.400Z', 'id': '5opxZwZYGrLuWTOLW8HvMK', 'artist': 'Tyler Childers', 'name': 'Purgatory'}.\n",
      "New entry added: {'played_at': '2022-09-09T13:29:01.773Z', 'id': '4rJesaufMl2xD0f2G8Xgnd', 'artist': 'Whiskey Myers', 'name': 'Stone'}.\n",
      "New entry added: {'played_at': '2022-09-09T13:32:26.284Z', 'id': '47fyYjbsfq48e3fUys4Xaa', 'artist': 'Elvie Shane', 'name': 'My Boy'}.\n",
      "New entry added: {'played_at': '2022-09-09T13:35:56.078Z', 'id': '208bYsadJ56km31IENM2qS', 'artist': 'Kenny Chesney', 'name': 'No Shoes No Shirt No Problems'}.\n",
      "New entry added: {'played_at': '2022-09-09T13:39:20.085Z', 'id': '60IGhnH20N82dNxKnc8jDd', 'artist': 'Zac Brown Band', 'name': 'Knee Deep (feat. Jimmy Buffett)'}.\n",
      "New entry added: {'played_at': '2022-09-09T13:43:31.191Z', 'id': '4EEjMyQub6tgFVshlM9j1M', 'artist': 'Jimmy Buffett', 'name': 'Margaritaville'}.\n",
      "New entry added: {'played_at': '2022-09-09T13:47:22.131Z', 'id': '7KysI43rsjlhjTeWO6ePUq', 'artist': 'Alan Jackson', 'name': \"It's Five O'Clock Somewhere\"}.\n",
      "New entry added: {'played_at': '2022-09-09T13:50:39.428Z', 'id': '5nIqitaV7WyyuM3KVUju1G', 'artist': 'Jimmy Buffett', 'name': 'Changes In Latitudes Changes In Attitudes'}.\n",
      "New entry added: {'played_at': '2022-09-09T13:53:36.429Z', 'id': '6VeZ970uI0Yi6sjBgyFBrp', 'artist': 'Jimmy Buffett', 'name': 'Cheeseburger In Paradise'}.\n",
      "New entry added: {'played_at': '2022-09-09T13:56:48.047Z', 'id': '0yje3JVMgJNZENayymCTHA', 'artist': 'Jimmy Buffett', 'name': 'Come Monday'}.\n",
      "New entry added: {'played_at': '2022-09-09T13:59:03.618Z', 'id': '5iis9J2sptrUy0VIpFVIg1', 'artist': 'Willie Nelson', 'name': 'Roll Me Up and Smoke Me When I Die - Live'}.\n",
      "New entry added: {'played_at': '2022-09-09T14:02:29.436Z', 'id': '5Yi6mwvMHnnh241uGjcJYy', 'artist': 'Jimmy Buffett', 'name': 'Son Of A Son Of A Sailor'}.\n",
      "New entry added: {'played_at': '2022-09-09T15:09:41.400Z', 'id': '1DxRMgLoWXgmIFF2Unp5pD', 'artist': 'HAZEY', 'name': 'Packs and Potions'}.\n",
      "New entry added: {'played_at': '2022-09-09T15:13:09.326Z', 'id': '6SDQETfHW9JT9p99S3nB44', 'artist': 'Alan Walker', 'name': 'Time - Alan Walker Remix - Extended Version'}.\n",
      "New entry added: {'played_at': '2022-09-09T15:22:04.391Z', 'id': '3v2oAQomhOcYCPPHafS3KV', 'artist': 'Eric Prydz', 'name': 'Opus'}.\n",
      "New entry added: {'played_at': '2022-09-09T15:24:56.115Z', 'id': '1CNCmckkTkCoJ8FsuwwL7t', 'artist': 'Dennis Lloyd', 'name': 'Nevermind (Wankelmut Remix)'}.\n",
      "New entry added: {'played_at': '2022-09-09T15:29:35.447Z', 'id': '5fwSHlTEWpluwOM0Sxnh5k', 'artist': 'Farruko', 'name': 'Pepas'}.\n",
      "New entry added: {'played_at': '2022-09-09T15:33:54.465Z', 'id': '6gdDu39yYqPcaTgCwYEW8i', 'artist': 'Fred again..', 'name': 'Turn On The Lights again.. (feat. Future)'}.\n",
      "New entry added: {'played_at': '2022-09-09T15:37:17.327Z', 'id': '4yhGkvdYU5bi4950r80FRo', 'artist': 'Supermode', 'name': 'Tell Me Why - Radio Edit'}.\n",
      "New entry added: {'played_at': '2022-09-09T15:40:15.288Z', 'id': '0b18g3G5spr4ZCkz7Y6Q0Q', 'artist': 'Majestic', 'name': 'Rasputin'}.\n",
      "New entry added: {'played_at': '2022-09-09T15:43:58.301Z', 'id': '4SXZvIjujIcmMtWbjnSwZT', 'artist': \"Barry Can't Swim\", 'name': 'Fiorucci Made Me Hardcore'}.\n",
      "New entry added: {'played_at': '2022-09-09T15:47:22.134Z', 'id': '1c4R7VEZSRIqO2eGR9LKXX', 'artist': 'Fred again..', 'name': 'Jungle - Rico Nasty Remix'}.\n",
      "New entry added: {'played_at': '2022-09-09T15:50:07.445Z', 'id': '2SbAcN6cMTrtGeTFA5rqDe', 'artist': 'Arno Cost', 'name': 'Show Luv'}.\n",
      "New entry added: {'played_at': '2022-09-09T15:53:32.293Z', 'id': '52V5wpCwxwzWgNZczk0xRB', 'artist': 'Loods', 'name': 'Never The Same'}.\n",
      "New entry added: {'played_at': '2022-09-09T15:56:01.381Z', 'id': '20on25jryn53hWghthWWW3', 'artist': 'ACRAZE', 'name': 'Do It To It'}.\n",
      "New entry added: {'played_at': '2022-09-09T15:58:30.410Z', 'id': '2FEUloDXMvRnyfLcsrCfkw', 'artist': 'John Summit', 'name': 'La Danza'}.\n",
      "New entry added: {'played_at': '2022-09-09T16:01:37.391Z', 'id': '3U7ZzaQjslHlHybw9jXQI8', 'artist': 'MATVEÏ', 'name': 'REGRESO - warner case Remix'}.\n",
      "New entry added: {'played_at': '2022-09-09T16:05:38.591Z', 'id': '5krhFNgUcYHwXlNPJJYzFM', 'artist': 'Ewan McVicar', 'name': 'Tell Me Something Good'}.\n",
      "New entry added: {'played_at': '2022-09-09T16:11:07.307Z', 'id': '0oiv4E896TUTTeQU0cmIui', 'artist': 'Drake', 'name': 'Massive'}.\n",
      "New entry added: {'played_at': '2022-09-09T16:13:56.363Z', 'id': '40SBS57su9xLiE1WqkXOVr', 'artist': 'LF SYSTEM', 'name': 'Afraid To Feel'}.\n",
      "New entry added: {'played_at': '2022-09-09T16:18:31.967Z', 'id': '1O6q3jz8Br1Wh3kgyS6ebe', 'artist': 'Fred Falke', 'name': 'Burning Down The House'}.\n",
      "New entry added: {'played_at': '2022-09-09T16:33:23.851Z', 'id': '1M8t1j3Kv2qp97bdq5q4Vl', 'artist': 'Tom Santa', 'name': 'Rainfall (Praise You)'}.\n",
      "New entry added: {'played_at': '2022-09-09T16:35:41.889Z', 'id': '20b1ZBMGOZjuGvNFncIIP7', 'artist': 'Majestic', 'name': 'Time to Groove (feat. Nonô)'}.\n",
      "New entry added: {'played_at': '2022-09-09T16:38:52.130Z', 'id': '31B7wLv4yvtjDoTTmbnxeE', 'artist': 'Fred again..', 'name': 'Jungle'}.\n",
      "New entry added: {'played_at': '2022-09-09T16:41:34.211Z', 'id': '7k7Huw9fxg3xer6ZNYyTMd', 'artist': 'LF SYSTEM', 'name': \"It's Always Been There\"}.\n",
      "New entry added: {'played_at': '2022-09-09T19:08:16.224Z', 'id': '2ICMnjBhI7xQhI6dV3Z78P', 'artist': 'Jimmy Buffett', 'name': 'Brown Eyed Girl'}.\n"
     ]
    }
   ],
   "source": [
    "latest = df.tail(1)[\"played_at\"].item()\n",
    "recents_df = sh.json_to_df(recents, latest)"
   ]
  },
  {
   "cell_type": "code",
   "execution_count": 10,
   "metadata": {},
   "outputs": [],
   "source": [
    "update_df = sh.combine_dfs(df, recents_df)"
   ]
  },
  {
   "cell_type": "markdown",
   "metadata": {},
   "source": [
    "# IMPORTANT: Double check the head is still the same"
   ]
  },
  {
   "cell_type": "code",
   "execution_count": 11,
   "metadata": {},
   "outputs": [
    {
     "data": {
      "text/html": [
       "<div>\n",
       "<style scoped>\n",
       "    .dataframe tbody tr th:only-of-type {\n",
       "        vertical-align: middle;\n",
       "    }\n",
       "\n",
       "    .dataframe tbody tr th {\n",
       "        vertical-align: top;\n",
       "    }\n",
       "\n",
       "    .dataframe thead th {\n",
       "        text-align: right;\n",
       "    }\n",
       "</style>\n",
       "<table border=\"1\" class=\"dataframe\">\n",
       "  <thead>\n",
       "    <tr style=\"text-align: right;\">\n",
       "      <th></th>\n",
       "      <th>played_at</th>\n",
       "      <th>id</th>\n",
       "      <th>artist</th>\n",
       "      <th>name</th>\n",
       "    </tr>\n",
       "  </thead>\n",
       "  <tbody>\n",
       "    <tr>\n",
       "      <th>0</th>\n",
       "      <td>2020-03-19T14:59:51.544Z</td>\n",
       "      <td>6r647IcY3VbHY7zEmtAAdS</td>\n",
       "      <td>Ratatat</td>\n",
       "      <td>Bob Gandhi</td>\n",
       "    </tr>\n",
       "    <tr>\n",
       "      <th>1</th>\n",
       "      <td>2020-03-19T15:02:35.733Z</td>\n",
       "      <td>4CKJlhPFfD4NphIHayTngd</td>\n",
       "      <td>SLIGHT</td>\n",
       "      <td>DREAMIN</td>\n",
       "    </tr>\n",
       "    <tr>\n",
       "      <th>2</th>\n",
       "      <td>2020-03-19T15:07:16.071Z</td>\n",
       "      <td>2CQWQkDK3fLiaxXvrMclMA</td>\n",
       "      <td>The Avalanches</td>\n",
       "      <td>Frontier Psychiatrist</td>\n",
       "    </tr>\n",
       "    <tr>\n",
       "      <th>3</th>\n",
       "      <td>2020-03-19T15:10:38.374Z</td>\n",
       "      <td>3ZbvZvQXAdc2YlLfJlNR0C</td>\n",
       "      <td>Admiral P</td>\n",
       "      <td>Gjï¿½r sï¿½ godt du kan</td>\n",
       "    </tr>\n",
       "    <tr>\n",
       "      <th>4</th>\n",
       "      <td>2020-03-19T15:13:38.896Z</td>\n",
       "      <td>39qc0OEY3CQWfTQzeghYaY</td>\n",
       "      <td>Admiral P</td>\n",
       "      <td>Nydelig</td>\n",
       "    </tr>\n",
       "  </tbody>\n",
       "</table>\n",
       "</div>"
      ],
      "text/plain": [
       "                  played_at                      id          artist  \\\n",
       "0  2020-03-19T14:59:51.544Z  6r647IcY3VbHY7zEmtAAdS         Ratatat   \n",
       "1  2020-03-19T15:02:35.733Z  4CKJlhPFfD4NphIHayTngd          SLIGHT   \n",
       "2  2020-03-19T15:07:16.071Z  2CQWQkDK3fLiaxXvrMclMA  The Avalanches   \n",
       "3  2020-03-19T15:10:38.374Z  3ZbvZvQXAdc2YlLfJlNR0C       Admiral P   \n",
       "4  2020-03-19T15:13:38.896Z  39qc0OEY3CQWfTQzeghYaY       Admiral P   \n",
       "\n",
       "                      name  \n",
       "0               Bob Gandhi  \n",
       "1                  DREAMIN  \n",
       "2    Frontier Psychiatrist  \n",
       "3  Gjï¿½r sï¿½ godt du kan  \n",
       "4                  Nydelig  "
      ]
     },
     "execution_count": 11,
     "metadata": {},
     "output_type": "execute_result"
    }
   ],
   "source": [
    "update_df.head()"
   ]
  },
  {
   "cell_type": "code",
   "execution_count": 12,
   "metadata": {},
   "outputs": [
    {
     "data": {
      "text/html": [
       "<div>\n",
       "<style scoped>\n",
       "    .dataframe tbody tr th:only-of-type {\n",
       "        vertical-align: middle;\n",
       "    }\n",
       "\n",
       "    .dataframe tbody tr th {\n",
       "        vertical-align: top;\n",
       "    }\n",
       "\n",
       "    .dataframe thead th {\n",
       "        text-align: right;\n",
       "    }\n",
       "</style>\n",
       "<table border=\"1\" class=\"dataframe\">\n",
       "  <thead>\n",
       "    <tr style=\"text-align: right;\">\n",
       "      <th></th>\n",
       "      <th>played_at</th>\n",
       "      <th>id</th>\n",
       "      <th>artist</th>\n",
       "      <th>name</th>\n",
       "    </tr>\n",
       "  </thead>\n",
       "  <tbody>\n",
       "    <tr>\n",
       "      <th>36515</th>\n",
       "      <td>2022-09-09T16:33:23.851Z</td>\n",
       "      <td>1M8t1j3Kv2qp97bdq5q4Vl</td>\n",
       "      <td>Tom Santa</td>\n",
       "      <td>Rainfall (Praise You)</td>\n",
       "    </tr>\n",
       "    <tr>\n",
       "      <th>36516</th>\n",
       "      <td>2022-09-09T16:35:41.889Z</td>\n",
       "      <td>20b1ZBMGOZjuGvNFncIIP7</td>\n",
       "      <td>Majestic</td>\n",
       "      <td>Time to Groove (feat. Nonô)</td>\n",
       "    </tr>\n",
       "    <tr>\n",
       "      <th>36517</th>\n",
       "      <td>2022-09-09T16:38:52.130Z</td>\n",
       "      <td>31B7wLv4yvtjDoTTmbnxeE</td>\n",
       "      <td>Fred again..</td>\n",
       "      <td>Jungle</td>\n",
       "    </tr>\n",
       "    <tr>\n",
       "      <th>36518</th>\n",
       "      <td>2022-09-09T16:41:34.211Z</td>\n",
       "      <td>7k7Huw9fxg3xer6ZNYyTMd</td>\n",
       "      <td>LF SYSTEM</td>\n",
       "      <td>It's Always Been There</td>\n",
       "    </tr>\n",
       "    <tr>\n",
       "      <th>36519</th>\n",
       "      <td>2022-09-09T19:08:16.224Z</td>\n",
       "      <td>2ICMnjBhI7xQhI6dV3Z78P</td>\n",
       "      <td>Jimmy Buffett</td>\n",
       "      <td>Brown Eyed Girl</td>\n",
       "    </tr>\n",
       "  </tbody>\n",
       "</table>\n",
       "</div>"
      ],
      "text/plain": [
       "                      played_at                      id         artist  \\\n",
       "36515  2022-09-09T16:33:23.851Z  1M8t1j3Kv2qp97bdq5q4Vl      Tom Santa   \n",
       "36516  2022-09-09T16:35:41.889Z  20b1ZBMGOZjuGvNFncIIP7       Majestic   \n",
       "36517  2022-09-09T16:38:52.130Z  31B7wLv4yvtjDoTTmbnxeE   Fred again..   \n",
       "36518  2022-09-09T16:41:34.211Z  7k7Huw9fxg3xer6ZNYyTMd      LF SYSTEM   \n",
       "36519  2022-09-09T19:08:16.224Z  2ICMnjBhI7xQhI6dV3Z78P  Jimmy Buffett   \n",
       "\n",
       "                              name  \n",
       "36515        Rainfall (Praise You)  \n",
       "36516  Time to Groove (feat. Nonô)  \n",
       "36517                       Jungle  \n",
       "36518       It's Always Been There  \n",
       "36519              Brown Eyed Girl  "
      ]
     },
     "execution_count": 12,
     "metadata": {},
     "output_type": "execute_result"
    }
   ],
   "source": [
    "update_df.tail()"
   ]
  },
  {
   "cell_type": "code",
   "execution_count": 13,
   "metadata": {},
   "outputs": [],
   "source": [
    "result = sh.df_to_csv(update_df)"
   ]
  },
  {
   "cell_type": "code",
   "execution_count": null,
   "metadata": {},
   "outputs": [],
   "source": []
  }
 ],
 "metadata": {
  "kernelspec": {
   "display_name": "Python 3.8.10 ('siteenv': venv)",
   "language": "python",
   "name": "python3"
  },
  "language_info": {
   "codemirror_mode": {
    "name": "ipython",
    "version": 3
   },
   "file_extension": ".py",
   "mimetype": "text/x-python",
   "name": "python",
   "nbconvert_exporter": "python",
   "pygments_lexer": "ipython3",
   "version": "3.8.10"
  },
  "orig_nbformat": 4,
  "vscode": {
   "interpreter": {
    "hash": "411b50e1db294dff2997a344e8ba4efc7b0e5e356563a2d66829e4da42f578c9"
   }
  }
 },
 "nbformat": 4,
 "nbformat_minor": 2
}
