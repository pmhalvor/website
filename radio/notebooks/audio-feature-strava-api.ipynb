{
 "cells": [
  {
   "attachments": {},
   "cell_type": "markdown",
   "metadata": {},
   "source": [
    "# Audio Features KNN \n",
    "## Strava API Client\n",
    "\n",
    "Now that the Spotify features are loaded into a pandas dataframe, a similar dataframe for our health data needs to be built. Over the scope of time we will be observing, all workouts have been uploaded to both Garmin Connect and Strava. The easiest API to integrate with is the Strava API, since no applications for approval are needed to get the initial credentials. \n",
    "\n",
    "In this notebook, we will:\n",
    "- Build a list of all activity ids and timeframes of workouts since March 2020\n",
    "- Match workout timeframe with recorded song history in `history.csv`\n",
    "- Build a dataframe including splits for each of the workouts. A split includes:\n",
    "    - Split time\n",
    "    - Split distance\n",
    "    - Average heart rate\n",
    "    - Elevation difference (optional)\n",
    "    - Average grade adjusted speed (optional)\n",
    "- A method to group track ids to split\n",
    "    - Catch overlapping song (belongs to two splits)\n",
    "\n",
    "Once these steps are complete, we can continue forward into building the model to cluster songs according to workout output. \n"
   ]
  },
  {
   "attachments": {},
   "cell_type": "markdown",
   "metadata": {},
   "source": [
    "# Set up notebook for local development"
   ]
  },
  {
   "cell_type": "code",
   "execution_count": 1,
   "metadata": {},
   "outputs": [],
   "source": [
    "%load_ext autoreload\n",
    "%autoreload 2"
   ]
  },
  {
   "cell_type": "code",
   "execution_count": 3,
   "metadata": {},
   "outputs": [
    {
     "name": "stdout",
     "output_type": "stream",
     "text": [
      "Moving to /Users/per.morten.halvorsen@schibsted.com/personal/website/radio...\n",
      "Current working directory: /Users/per.morten.halvorsen@schibsted.com/personal/website/radio\n"
     ]
    }
   ],
   "source": [
    "from tools import cd_to\n",
    "\n",
    "cd_to(full_path=\"/Users/per.morten.halvorsen@schibsted.com/personal/website/radio\")"
   ]
  },
  {
   "attachments": {},
   "cell_type": "markdown",
   "metadata": {},
   "source": [
    "# Authorize Strava API Client"
   ]
  },
  {
   "cell_type": "code",
   "execution_count": null,
   "metadata": {},
   "outputs": [],
   "source": []
  }
 ],
 "metadata": {
  "kernelspec": {
   "display_name": "website",
   "language": "python",
   "name": "python3"
  },
  "language_info": {
   "codemirror_mode": {
    "name": "ipython",
    "version": 3
   },
   "file_extension": ".py",
   "mimetype": "text/x-python",
   "name": "python",
   "nbconvert_exporter": "python",
   "pygments_lexer": "ipython3",
   "version": "3.8.13"
  },
  "orig_nbformat": 4,
  "vscode": {
   "interpreter": {
    "hash": "6056edf6ad2903f9d6d9e9345f3bab80272ae435e37f0154c3a8799c59de36a1"
   }
  }
 },
 "nbformat": 4,
 "nbformat_minor": 2
}
