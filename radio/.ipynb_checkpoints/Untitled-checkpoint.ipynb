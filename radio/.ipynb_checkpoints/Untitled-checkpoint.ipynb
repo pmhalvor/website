{
 "cells": [
  {
   "cell_type": "code",
   "execution_count": 8,
   "id": "8a19bb68",
   "metadata": {},
   "outputs": [],
   "source": [
    "%load_ext autoreload\n",
    "%autoreload 2"
   ]
  },
  {
   "cell_type": "code",
   "execution_count": 38,
   "id": "aa756d72",
   "metadata": {},
   "outputs": [],
   "source": [
    "import os \n",
    "# os.environ[\"ROOT\"] = \"E:\\\\\"\n",
    "from datetime import datetime, timedelta\n",
    "try:\n",
    "    from worker.song_history import load_df\n",
    "    from worker.song_history import  get_durations\n",
    "except:\n",
    "    from song_history import load_df\n",
    "    from song_history import  get_durations\n",
    "import pandas as pd \n",
    "import plotly.offline as opy\n",
    "import io, json, logging\n",
    "import requests as r\n",
    "import os \n",
    "import pickle\n",
    "\n",
    "pd.options.plotting.backend = \"plotly\""
   ]
  },
  {
   "cell_type": "code",
   "execution_count": 27,
   "id": "06bb8dd6",
   "metadata": {},
   "outputs": [],
   "source": [
    "from worker.plot import artist_duration\n",
    "from worker.authorize import get_token"
   ]
  },
  {
   "cell_type": "code",
   "execution_count": 3,
   "id": "3e891eac",
   "metadata": {},
   "outputs": [
    {
     "name": "stdout",
     "output_type": "stream",
     "text": [
      "loaded from E:/pmhalvor//data/history.csv\n"
     ]
    }
   ],
   "source": [
    "df, mdf = load_df()"
   ]
  },
  {
   "cell_type": "code",
   "execution_count": 4,
   "id": "2441fd67",
   "metadata": {},
   "outputs": [],
   "source": [
    "df = df[df[\"played_at\"] > (datetime.today() - timedelta(180)).strftime(\"%Y-%m-%dZ%H:%M:%S.000Z\")]\n"
   ]
  },
  {
   "cell_type": "code",
   "execution_count": 5,
   "id": "41e5075a",
   "metadata": {},
   "outputs": [
    {
     "data": {
      "text/html": [
       "<div>\n",
       "<style scoped>\n",
       "    .dataframe tbody tr th:only-of-type {\n",
       "        vertical-align: middle;\n",
       "    }\n",
       "\n",
       "    .dataframe tbody tr th {\n",
       "        vertical-align: top;\n",
       "    }\n",
       "\n",
       "    .dataframe thead th {\n",
       "        text-align: right;\n",
       "    }\n",
       "</style>\n",
       "<table border=\"1\" class=\"dataframe\">\n",
       "  <thead>\n",
       "    <tr style=\"text-align: right;\">\n",
       "      <th></th>\n",
       "      <th>played_at</th>\n",
       "      <th>id</th>\n",
       "      <th>artist</th>\n",
       "      <th>name</th>\n",
       "    </tr>\n",
       "  </thead>\n",
       "  <tbody>\n",
       "    <tr>\n",
       "      <th>28338</th>\n",
       "      <td>2022-02-27T10:40:31.735Z</td>\n",
       "      <td>1No3OKWvdgtctLvSKQcREg</td>\n",
       "      <td>Khruangbin</td>\n",
       "      <td>Chocolate Hills</td>\n",
       "    </tr>\n",
       "    <tr>\n",
       "      <th>28339</th>\n",
       "      <td>2022-02-27T10:44:19.058Z</td>\n",
       "      <td>1zEkOtRGRBy85BU2dW0QsZ</td>\n",
       "      <td>Gavinco</td>\n",
       "      <td>Caravella - Edit</td>\n",
       "    </tr>\n",
       "    <tr>\n",
       "      <th>28340</th>\n",
       "      <td>2022-02-27T10:46:37.839Z</td>\n",
       "      <td>3EFJiOTKJ14jAWzuYxA46c</td>\n",
       "      <td>Remulak</td>\n",
       "      <td>Drifting</td>\n",
       "    </tr>\n",
       "    <tr>\n",
       "      <th>28341</th>\n",
       "      <td>2022-02-27T10:50:01.062Z</td>\n",
       "      <td>2FCQs4zlAjGeIh0KIqkEmD</td>\n",
       "      <td>The Olympians</td>\n",
       "      <td>Sagittarius By Moonlight</td>\n",
       "    </tr>\n",
       "    <tr>\n",
       "      <th>28342</th>\n",
       "      <td>2022-02-27T10:57:11.913Z</td>\n",
       "      <td>1hYLj6JNbs8RAwNNy3x3HG</td>\n",
       "      <td>Mark Kramer Trio</td>\n",
       "      <td>Mozart / Jazz Symphony in G Minor First Moveme...</td>\n",
       "    </tr>\n",
       "  </tbody>\n",
       "</table>\n",
       "</div>"
      ],
      "text/plain": [
       "                      played_at                      id            artist  \\\n",
       "28338  2022-02-27T10:40:31.735Z  1No3OKWvdgtctLvSKQcREg        Khruangbin   \n",
       "28339  2022-02-27T10:44:19.058Z  1zEkOtRGRBy85BU2dW0QsZ           Gavinco   \n",
       "28340  2022-02-27T10:46:37.839Z  3EFJiOTKJ14jAWzuYxA46c           Remulak   \n",
       "28341  2022-02-27T10:50:01.062Z  2FCQs4zlAjGeIh0KIqkEmD     The Olympians   \n",
       "28342  2022-02-27T10:57:11.913Z  1hYLj6JNbs8RAwNNy3x3HG  Mark Kramer Trio   \n",
       "\n",
       "                                                    name  \n",
       "28338                                    Chocolate Hills  \n",
       "28339                                   Caravella - Edit  \n",
       "28340                                           Drifting  \n",
       "28341                           Sagittarius By Moonlight  \n",
       "28342  Mozart / Jazz Symphony in G Minor First Moveme...  "
      ]
     },
     "execution_count": 5,
     "metadata": {},
     "output_type": "execute_result"
    }
   ],
   "source": [
    "df.head()"
   ]
  },
  {
   "cell_type": "code",
   "execution_count": 6,
   "id": "25c57b81",
   "metadata": {},
   "outputs": [
    {
     "data": {
      "text/plain": [
       "3670"
      ]
     },
     "execution_count": 6,
     "metadata": {},
     "output_type": "execute_result"
    }
   ],
   "source": [
    "len(df.id.unique())"
   ]
  },
  {
   "cell_type": "code",
   "execution_count": 16,
   "id": "54b8c7ef",
   "metadata": {},
   "outputs": [],
   "source": [
    "durations = get_durations(df.id.unique())"
   ]
  },
  {
   "cell_type": "code",
   "execution_count": 24,
   "id": "d1b8d14b",
   "metadata": {},
   "outputs": [
    {
     "data": {
      "text/html": [
       "<div>\n",
       "<style scoped>\n",
       "    .dataframe tbody tr th:only-of-type {\n",
       "        vertical-align: middle;\n",
       "    }\n",
       "\n",
       "    .dataframe tbody tr th {\n",
       "        vertical-align: top;\n",
       "    }\n",
       "\n",
       "    .dataframe thead th {\n",
       "        text-align: right;\n",
       "    }\n",
       "</style>\n",
       "<table border=\"1\" class=\"dataframe\">\n",
       "  <thead>\n",
       "    <tr style=\"text-align: right;\">\n",
       "      <th></th>\n",
       "      <th>id</th>\n",
       "      <th>duration</th>\n",
       "    </tr>\n",
       "  </thead>\n",
       "  <tbody>\n",
       "    <tr>\n",
       "      <th>0</th>\n",
       "      <td>1No3OKWvdgtctLvSKQcREg</td>\n",
       "      <td>0</td>\n",
       "    </tr>\n",
       "    <tr>\n",
       "      <th>1</th>\n",
       "      <td>1zEkOtRGRBy85BU2dW0QsZ</td>\n",
       "      <td>0</td>\n",
       "    </tr>\n",
       "    <tr>\n",
       "      <th>2</th>\n",
       "      <td>3EFJiOTKJ14jAWzuYxA46c</td>\n",
       "      <td>0</td>\n",
       "    </tr>\n",
       "    <tr>\n",
       "      <th>3</th>\n",
       "      <td>2FCQs4zlAjGeIh0KIqkEmD</td>\n",
       "      <td>0</td>\n",
       "    </tr>\n",
       "    <tr>\n",
       "      <th>4</th>\n",
       "      <td>1hYLj6JNbs8RAwNNy3x3HG</td>\n",
       "      <td>0</td>\n",
       "    </tr>\n",
       "  </tbody>\n",
       "</table>\n",
       "</div>"
      ],
      "text/plain": [
       "                       id  duration\n",
       "0  1No3OKWvdgtctLvSKQcREg         0\n",
       "1  1zEkOtRGRBy85BU2dW0QsZ         0\n",
       "2  3EFJiOTKJ14jAWzuYxA46c         0\n",
       "3  2FCQs4zlAjGeIh0KIqkEmD         0\n",
       "4  1hYLj6JNbs8RAwNNy3x3HG         0"
      ]
     },
     "execution_count": 24,
     "metadata": {},
     "output_type": "execute_result"
    }
   ],
   "source": [
    "durations.head()"
   ]
  },
  {
   "cell_type": "code",
   "execution_count": 21,
   "id": "c27aebd9",
   "metadata": {},
   "outputs": [],
   "source": [
    "ids = durations.id[durations.duration<1]"
   ]
  },
  {
   "cell_type": "code",
   "execution_count": 22,
   "id": "3e2c9372",
   "metadata": {},
   "outputs": [
    {
     "data": {
      "text/plain": [
       "0       1No3OKWvdgtctLvSKQcREg\n",
       "1       1zEkOtRGRBy85BU2dW0QsZ\n",
       "2       3EFJiOTKJ14jAWzuYxA46c\n",
       "3       2FCQs4zlAjGeIh0KIqkEmD\n",
       "4       1hYLj6JNbs8RAwNNy3x3HG\n",
       "                 ...          \n",
       "3665    4bO6DljpuAeQh6HS20i0I5\n",
       "3666    7cPojUq1xFAIcksvhFp4DV\n",
       "3667    5Axapk6xMmSHK2A75EZiYo\n",
       "3668    07ABETRdek3ACMpRPvQuaT\n",
       "3669    4aeJDu3ftusgtKHpTxjcjk\n",
       "Name: id, Length: 3670, dtype: object"
      ]
     },
     "execution_count": 22,
     "metadata": {},
     "output_type": "execute_result"
    }
   ],
   "source": [
    "ids"
   ]
  },
  {
   "cell_type": "code",
   "execution_count": 34,
   "id": "dbbcd63c",
   "metadata": {},
   "outputs": [
    {
     "name": "stdout",
     "output_type": "stream",
     "text": [
      "Time difference: 715\n",
      "Will be executing 368 API call(s)\n"
     ]
    }
   ],
   "source": [
    "MAX_ID_COUNT = 10\n",
    "token = get_token()\n",
    "batches = (len(ids)//MAX_ID_COUNT) + 1\n",
    "print(f'Will be executing {batches} API call(s)')"
   ]
  },
  {
   "cell_type": "code",
   "execution_count": 35,
   "id": "6d4997f0",
   "metadata": {},
   "outputs": [],
   "source": [
    "URL = \"https://api.spotify.com/v1/tracks\"    # api-endpoint for recently played  \n",
    "HEAD = {'Authorization': 'Bearer '+token}                       # provide auth. crendtials"
   ]
  },
  {
   "cell_type": "code",
   "execution_count": 36,
   "id": "634d34af",
   "metadata": {},
   "outputs": [
    {
     "data": {
      "text/html": [
       "<div>\n",
       "<style scoped>\n",
       "    .dataframe tbody tr th:only-of-type {\n",
       "        vertical-align: middle;\n",
       "    }\n",
       "\n",
       "    .dataframe tbody tr th {\n",
       "        vertical-align: top;\n",
       "    }\n",
       "\n",
       "    .dataframe thead th {\n",
       "        text-align: right;\n",
       "    }\n",
       "</style>\n",
       "<table border=\"1\" class=\"dataframe\">\n",
       "  <thead>\n",
       "    <tr style=\"text-align: right;\">\n",
       "      <th></th>\n",
       "      <th>id</th>\n",
       "      <th>duration</th>\n",
       "    </tr>\n",
       "  </thead>\n",
       "  <tbody>\n",
       "    <tr>\n",
       "      <th>0</th>\n",
       "      <td>1No3OKWvdgtctLvSKQcREg</td>\n",
       "      <td>0</td>\n",
       "    </tr>\n",
       "    <tr>\n",
       "      <th>1</th>\n",
       "      <td>1zEkOtRGRBy85BU2dW0QsZ</td>\n",
       "      <td>0</td>\n",
       "    </tr>\n",
       "    <tr>\n",
       "      <th>2</th>\n",
       "      <td>3EFJiOTKJ14jAWzuYxA46c</td>\n",
       "      <td>0</td>\n",
       "    </tr>\n",
       "    <tr>\n",
       "      <th>3</th>\n",
       "      <td>2FCQs4zlAjGeIh0KIqkEmD</td>\n",
       "      <td>0</td>\n",
       "    </tr>\n",
       "    <tr>\n",
       "      <th>4</th>\n",
       "      <td>1hYLj6JNbs8RAwNNy3x3HG</td>\n",
       "      <td>0</td>\n",
       "    </tr>\n",
       "    <tr>\n",
       "      <th>5</th>\n",
       "      <td>3yMYs3jJdAPxMgqb0CYZUG</td>\n",
       "      <td>0</td>\n",
       "    </tr>\n",
       "    <tr>\n",
       "      <th>6</th>\n",
       "      <td>6Rd2NhQnVeDBMUti7BiS90</td>\n",
       "      <td>0</td>\n",
       "    </tr>\n",
       "    <tr>\n",
       "      <th>7</th>\n",
       "      <td>5STMWcvgi6UiswwZyeWdTG</td>\n",
       "      <td>0</td>\n",
       "    </tr>\n",
       "    <tr>\n",
       "      <th>8</th>\n",
       "      <td>0upn2c2d9jGu6nI6hiTjW9</td>\n",
       "      <td>0</td>\n",
       "    </tr>\n",
       "    <tr>\n",
       "      <th>9</th>\n",
       "      <td>5YQxSoa9DJvbRz49X9BTc8</td>\n",
       "      <td>0</td>\n",
       "    </tr>\n",
       "    <tr>\n",
       "      <th>10</th>\n",
       "      <td>5ZGpTHyeHPUdspgGRS7f5t</td>\n",
       "      <td>0</td>\n",
       "    </tr>\n",
       "    <tr>\n",
       "      <th>11</th>\n",
       "      <td>77u4D7eaO0T6zVby7kybyP</td>\n",
       "      <td>0</td>\n",
       "    </tr>\n",
       "    <tr>\n",
       "      <th>12</th>\n",
       "      <td>08eclgFYbl5lL4AJgL7Dpc</td>\n",
       "      <td>0</td>\n",
       "    </tr>\n",
       "    <tr>\n",
       "      <th>13</th>\n",
       "      <td>5TqP7F2nsE9F95EFkgFX24</td>\n",
       "      <td>0</td>\n",
       "    </tr>\n",
       "    <tr>\n",
       "      <th>14</th>\n",
       "      <td>3pNijZFoqxfIUVzzN9pDtA</td>\n",
       "      <td>0</td>\n",
       "    </tr>\n",
       "    <tr>\n",
       "      <th>15</th>\n",
       "      <td>6ktLSB400x4CYHuYZD5Slb</td>\n",
       "      <td>0</td>\n",
       "    </tr>\n",
       "    <tr>\n",
       "      <th>16</th>\n",
       "      <td>0OmR9KoKrstm7qEzyzOnD6</td>\n",
       "      <td>0</td>\n",
       "    </tr>\n",
       "    <tr>\n",
       "      <th>17</th>\n",
       "      <td>4xlpJ99yL9xYQtzG6c3hwk</td>\n",
       "      <td>0</td>\n",
       "    </tr>\n",
       "    <tr>\n",
       "      <th>18</th>\n",
       "      <td>2WnPietHTd9hrIPbZnpoHL</td>\n",
       "      <td>0</td>\n",
       "    </tr>\n",
       "    <tr>\n",
       "      <th>19</th>\n",
       "      <td>19l5e68UyPTkE6GbdIrGRn</td>\n",
       "      <td>0</td>\n",
       "    </tr>\n",
       "    <tr>\n",
       "      <th>20</th>\n",
       "      <td>1msXkHv84LKikJGKcfdGBu</td>\n",
       "      <td>0</td>\n",
       "    </tr>\n",
       "    <tr>\n",
       "      <th>21</th>\n",
       "      <td>4BnkR2EkBBH4wpor1kTjLc</td>\n",
       "      <td>0</td>\n",
       "    </tr>\n",
       "    <tr>\n",
       "      <th>22</th>\n",
       "      <td>6Cyz09EuSlS6xzHU4HUWDK</td>\n",
       "      <td>0</td>\n",
       "    </tr>\n",
       "    <tr>\n",
       "      <th>23</th>\n",
       "      <td>5ID9m1iTm3h1FQogmJgwuS</td>\n",
       "      <td>0</td>\n",
       "    </tr>\n",
       "    <tr>\n",
       "      <th>24</th>\n",
       "      <td>5wqHmyROyzCXJTXvisFg4d</td>\n",
       "      <td>0</td>\n",
       "    </tr>\n",
       "    <tr>\n",
       "      <th>25</th>\n",
       "      <td>2Wm6GOCXBADZ5fiXL1UuqC</td>\n",
       "      <td>0</td>\n",
       "    </tr>\n",
       "    <tr>\n",
       "      <th>26</th>\n",
       "      <td>4xKKzYCvsVgOANt4GbdGq5</td>\n",
       "      <td>0</td>\n",
       "    </tr>\n",
       "    <tr>\n",
       "      <th>27</th>\n",
       "      <td>6F9mDgNqAT0vZSUhfSFCc2</td>\n",
       "      <td>0</td>\n",
       "    </tr>\n",
       "    <tr>\n",
       "      <th>28</th>\n",
       "      <td>3Sr6QO0oaR0LXAbSNDIU6l</td>\n",
       "      <td>0</td>\n",
       "    </tr>\n",
       "    <tr>\n",
       "      <th>29</th>\n",
       "      <td>5aDZOMeCa6VuKJSENFsuGx</td>\n",
       "      <td>0</td>\n",
       "    </tr>\n",
       "  </tbody>\n",
       "</table>\n",
       "</div>"
      ],
      "text/plain": [
       "                        id  duration\n",
       "0   1No3OKWvdgtctLvSKQcREg         0\n",
       "1   1zEkOtRGRBy85BU2dW0QsZ         0\n",
       "2   3EFJiOTKJ14jAWzuYxA46c         0\n",
       "3   2FCQs4zlAjGeIh0KIqkEmD         0\n",
       "4   1hYLj6JNbs8RAwNNy3x3HG         0\n",
       "5   3yMYs3jJdAPxMgqb0CYZUG         0\n",
       "6   6Rd2NhQnVeDBMUti7BiS90         0\n",
       "7   5STMWcvgi6UiswwZyeWdTG         0\n",
       "8   0upn2c2d9jGu6nI6hiTjW9         0\n",
       "9   5YQxSoa9DJvbRz49X9BTc8         0\n",
       "10  5ZGpTHyeHPUdspgGRS7f5t         0\n",
       "11  77u4D7eaO0T6zVby7kybyP         0\n",
       "12  08eclgFYbl5lL4AJgL7Dpc         0\n",
       "13  5TqP7F2nsE9F95EFkgFX24         0\n",
       "14  3pNijZFoqxfIUVzzN9pDtA         0\n",
       "15  6ktLSB400x4CYHuYZD5Slb         0\n",
       "16  0OmR9KoKrstm7qEzyzOnD6         0\n",
       "17  4xlpJ99yL9xYQtzG6c3hwk         0\n",
       "18  2WnPietHTd9hrIPbZnpoHL         0\n",
       "19  19l5e68UyPTkE6GbdIrGRn         0\n",
       "20  1msXkHv84LKikJGKcfdGBu         0\n",
       "21  4BnkR2EkBBH4wpor1kTjLc         0\n",
       "22  6Cyz09EuSlS6xzHU4HUWDK         0\n",
       "23  5ID9m1iTm3h1FQogmJgwuS         0\n",
       "24  5wqHmyROyzCXJTXvisFg4d         0\n",
       "25  2Wm6GOCXBADZ5fiXL1UuqC         0\n",
       "26  4xKKzYCvsVgOANt4GbdGq5         0\n",
       "27  6F9mDgNqAT0vZSUhfSFCc2         0\n",
       "28  3Sr6QO0oaR0LXAbSNDIU6l         0\n",
       "29  5aDZOMeCa6VuKJSENFsuGx         0"
      ]
     },
     "execution_count": 36,
     "metadata": {},
     "output_type": "execute_result"
    }
   ],
   "source": [
    "durations.head(30)"
   ]
  },
  {
   "cell_type": "code",
   "execution_count": 50,
   "id": "c45c76e8",
   "metadata": {},
   "outputs": [
    {
     "name": "stdout",
     "output_type": "stream",
     "text": [
      "requesting 10 ids\n",
      "requesting 10 ids\n",
      "requesting 10 ids\n"
     ]
    }
   ],
   "source": [
    "dir_path = os.environ[\"ROOT\"]\n",
    "\n",
    "\n",
    "for i in range(3):\n",
    "    if i==(batches-1):\n",
    "        batch_ids = ids[MAX_ID_COUNT*i:]  # last set of indices\n",
    "    else:\n",
    "        batch_ids = ids[MAX_ID_COUNT*i:MAX_ID_COUNT*(i+1)]  # forward indexing\n",
    "\n",
    "    print(f\"requesting {len(batch_ids)} ids\")\n",
    "    b_ids = ','.join(batch_ids)\n",
    "    \n",
    "    print(b_ids)\n",
    "    PARAMS = {'ids':b_ids}\t\n",
    "    data = r.get(url=URL, headers=HEAD, params=PARAMS).json()\n",
    "\n",
    "    batch_dur = []\n",
    "\n",
    "    if data.get('tracks'):\n",
    "        for track in data['tracks']:\n",
    "            batch_dur.append(track['duration_ms'])\n",
    "\n",
    "            print(batch_dur)\n",
    "        durations.duration[batch_ids.index] = batch_dur\n",
    "    else:\n",
    "        print('No tracks in response')\n",
    "        print(data)\n",
    "\n",
    "    print(durations[durations.index.isin(batch_ids)])"
   ]
  },
  {
   "cell_type": "code",
   "execution_count": 52,
   "id": "1d530053",
   "metadata": {},
   "outputs": [
    {
     "data": {
      "text/plain": [
       "Int64Index([20, 21, 22, 23, 24, 25, 26, 27, 28, 29], dtype='int64')"
      ]
     },
     "execution_count": 52,
     "metadata": {},
     "output_type": "execute_result"
    }
   ],
   "source": [
    "batch_ids.index"
   ]
  },
  {
   "cell_type": "code",
   "execution_count": 53,
   "id": "cb7f8332",
   "metadata": {},
   "outputs": [
    {
     "data": {
      "text/plain": [
       "20    0\n",
       "21    0\n",
       "22    0\n",
       "23    0\n",
       "24    0\n",
       "25    0\n",
       "26    0\n",
       "27    0\n",
       "28    0\n",
       "29    0\n",
       "Name: duration, dtype: int64"
      ]
     },
     "execution_count": 53,
     "metadata": {},
     "output_type": "execute_result"
    }
   ],
   "source": [
    "durations.duration[batch_ids.index]"
   ]
  },
  {
   "cell_type": "code",
   "execution_count": 54,
   "id": "ecefbb4a",
   "metadata": {},
   "outputs": [
    {
     "data": {
      "text/plain": [
       "[190433,\n",
       " 234278,\n",
       " 145774,\n",
       " 210240,\n",
       " 437880,\n",
       " 380000,\n",
       " 331392,\n",
       " 197968,\n",
       " 379229,\n",
       " 146341]"
      ]
     },
     "execution_count": 54,
     "metadata": {},
     "output_type": "execute_result"
    }
   ],
   "source": [
    "batch_dur"
   ]
  },
  {
   "cell_type": "code",
   "execution_count": 55,
   "id": "de0695c4",
   "metadata": {},
   "outputs": [
    {
     "name": "stderr",
     "output_type": "stream",
     "text": [
      "C:\\Users\\perha\\AppData\\Local\\Temp\\ipykernel_22972\\912534908.py:1: SettingWithCopyWarning:\n",
      "\n",
      "\n",
      "A value is trying to be set on a copy of a slice from a DataFrame\n",
      "\n",
      "See the caveats in the documentation: https://pandas.pydata.org/pandas-docs/stable/user_guide/indexing.html#returning-a-view-versus-a-copy\n",
      "\n"
     ]
    }
   ],
   "source": [
    "durations.duration[batch_ids.index] = batch_dur"
   ]
  },
  {
   "cell_type": "code",
   "execution_count": 58,
   "id": "cbe0a5af",
   "metadata": {},
   "outputs": [
    {
     "ename": "TypeError",
     "evalue": "'StringMethods' object is not callable",
     "output_type": "error",
     "traceback": [
      "\u001b[1;31m---------------------------------------------------------------------------\u001b[0m",
      "\u001b[1;31mTypeError\u001b[0m                                 Traceback (most recent call last)",
      "Input \u001b[1;32mIn [58]\u001b[0m, in \u001b[0;36m<cell line: 1>\u001b[1;34m()\u001b[0m\n\u001b[1;32m----> 1\u001b[0m \u001b[43mbatch_ids\u001b[49m\u001b[38;5;241;43m.\u001b[39;49m\u001b[43mstr\u001b[49m\u001b[43m(\u001b[49m\u001b[43m)\u001b[49m\n",
      "\u001b[1;31mTypeError\u001b[0m: 'StringMethods' object is not callable"
     ]
    }
   ],
   "source": []
  },
  {
   "cell_type": "code",
   "execution_count": null,
   "id": "daa1d5fd",
   "metadata": {},
   "outputs": [],
   "source": []
  }
 ],
 "metadata": {
  "kernelspec": {
   "display_name": "Python 3 (ipykernel)",
   "language": "python",
   "name": "python3"
  },
  "language_info": {
   "codemirror_mode": {
    "name": "ipython",
    "version": 3
   },
   "file_extension": ".py",
   "mimetype": "text/x-python",
   "name": "python",
   "nbconvert_exporter": "python",
   "pygments_lexer": "ipython3",
   "version": "3.8.10"
  }
 },
 "nbformat": 4,
 "nbformat_minor": 5
}
